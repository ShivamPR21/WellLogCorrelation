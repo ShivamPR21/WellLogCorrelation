{
 "cells": [
  {
   "cell_type": "code",
   "execution_count": 8,
   "id": "d3224be9",
   "metadata": {},
   "outputs": [],
   "source": [
    "from wlcorr import EncoderDecoderStaticDataset, EncoderDecoder1DCNN\n",
    "from torch.utils.data import DataLoader\n",
    "import torch\n",
    "import torch.nn as nn"
   ]
  },
  {
   "cell_type": "code",
   "execution_count": 3,
   "id": "40b10cf9",
   "metadata": {},
   "outputs": [],
   "source": [
    "dataset = EncoderDecoderStaticDataset('/home/shivam/DKLabs/OilGasProject/WellLogCorrelation/data')"
   ]
  },
  {
   "cell_type": "code",
   "execution_count": 4,
   "id": "bf5faf1d",
   "metadata": {},
   "outputs": [
    {
     "data": {
      "text/plain": [
       "98"
      ]
     },
     "execution_count": 4,
     "metadata": {},
     "output_type": "execute_result"
    }
   ],
   "source": [
    "dataset.__len__()"
   ]
  },
  {
   "cell_type": "code",
   "execution_count": 5,
   "id": "958211cb",
   "metadata": {},
   "outputs": [],
   "source": [
    "dataloader = DataLoader(dataset, batch_size = 10, shuffle = True,)"
   ]
  },
  {
   "cell_type": "code",
   "execution_count": 6,
   "id": "0a28c389",
   "metadata": {},
   "outputs": [
    {
     "data": {
      "text/plain": [
       "EncoderDecoder1DCNN(\n",
       "  (encoder): Sequential(\n",
       "    (0): Conv1d(2, 5, kernel_size=(10,), stride=(1,), padding=(9,))\n",
       "    (1): SELU()\n",
       "    (2): Conv1d(5, 10, kernel_size=(10,), stride=(1,), padding=(9,))\n",
       "    (3): SELU()\n",
       "    (4): Conv1d(10, 10, kernel_size=(10,), stride=(1,), padding=(9,))\n",
       "    (5): SELU()\n",
       "    (6): Conv1d(10, 10, kernel_size=(10,), stride=(1,), padding=(9,))\n",
       "    (7): SELU()\n",
       "    (8): Conv1d(10, 1, kernel_size=(10,), stride=(1,), padding=(9,))\n",
       "    (9): SELU()\n",
       "    (10): Linear(in_features=145, out_features=10, bias=True)\n",
       "  )\n",
       "  (decoder): Sequential(\n",
       "    (0): ConvTranspose1d(1, 5, kernel_size=(10,), stride=(1,))\n",
       "    (1): SELU()\n",
       "    (2): ConvTranspose1d(5, 10, kernel_size=(10,), stride=(1,))\n",
       "    (3): SELU()\n",
       "    (4): ConvTranspose1d(10, 10, kernel_size=(10,), stride=(1,))\n",
       "    (5): SELU()\n",
       "    (6): ConvTranspose1d(10, 5, kernel_size=(10,), stride=(1,))\n",
       "    (7): SELU()\n",
       "    (8): ConvTranspose1d(5, 5, kernel_size=(10,), stride=(1,))\n",
       "    (9): SELU()\n",
       "    (10): ConvTranspose1d(5, 2, kernel_size=(10,), stride=(1,))\n",
       "    (11): SELU()\n",
       "  )\n",
       "  (linears): ModuleList(\n",
       "    (0): Linear(in_features=64, out_features=100, bias=True)\n",
       "    (1): Linear(in_features=64, out_features=100, bias=True)\n",
       "  )\n",
       ")"
      ]
     },
     "execution_count": 6,
     "metadata": {},
     "output_type": "execute_result"
    }
   ],
   "source": [
    "model = EncoderDecoder1DCNN()\n",
    "model.to('cuda')"
   ]
  },
  {
   "cell_type": "code",
   "execution_count": 7,
   "id": "911933f4",
   "metadata": {},
   "outputs": [
    {
     "data": {
      "text/plain": [
       "EncoderDecoder1DCNN(\n",
       "  (encoder): Sequential(\n",
       "    (0): Conv1d(2, 5, kernel_size=(10,), stride=(1,), padding=(9,))\n",
       "    (1): SELU()\n",
       "    (2): Conv1d(5, 10, kernel_size=(10,), stride=(1,), padding=(9,))\n",
       "    (3): SELU()\n",
       "    (4): Conv1d(10, 10, kernel_size=(10,), stride=(1,), padding=(9,))\n",
       "    (5): SELU()\n",
       "    (6): Conv1d(10, 10, kernel_size=(10,), stride=(1,), padding=(9,))\n",
       "    (7): SELU()\n",
       "    (8): Conv1d(10, 1, kernel_size=(10,), stride=(1,), padding=(9,))\n",
       "    (9): SELU()\n",
       "    (10): Linear(in_features=145, out_features=10, bias=True)\n",
       "  )\n",
       "  (decoder): Sequential(\n",
       "    (0): ConvTranspose1d(1, 5, kernel_size=(10,), stride=(1,))\n",
       "    (1): SELU()\n",
       "    (2): ConvTranspose1d(5, 10, kernel_size=(10,), stride=(1,))\n",
       "    (3): SELU()\n",
       "    (4): ConvTranspose1d(10, 10, kernel_size=(10,), stride=(1,))\n",
       "    (5): SELU()\n",
       "    (6): ConvTranspose1d(10, 5, kernel_size=(10,), stride=(1,))\n",
       "    (7): SELU()\n",
       "    (8): ConvTranspose1d(5, 5, kernel_size=(10,), stride=(1,))\n",
       "    (9): SELU()\n",
       "    (10): ConvTranspose1d(5, 2, kernel_size=(10,), stride=(1,))\n",
       "    (11): SELU()\n",
       "  )\n",
       "  (linears): ModuleList(\n",
       "    (0): Linear(in_features=64, out_features=100, bias=True)\n",
       "    (1): Linear(in_features=64, out_features=100, bias=True)\n",
       "  )\n",
       ")"
      ]
     },
     "execution_count": 7,
     "metadata": {},
     "output_type": "execute_result"
    }
   ],
   "source": [
    "model.eval()"
   ]
  },
  {
   "cell_type": "code",
   "execution_count": 7,
   "id": "0ff6e590",
   "metadata": {},
   "outputs": [],
   "source": [
    "data = iter(dataloader).next()\n",
    "data = data.to('cuda')"
   ]
  },
  {
   "cell_type": "code",
   "execution_count": 8,
   "id": "d27f59b9",
   "metadata": {},
   "outputs": [],
   "source": [
    "ret = model(data)"
   ]
  },
  {
   "cell_type": "code",
   "execution_count": 44,
   "id": "bd6c73a0",
   "metadata": {},
   "outputs": [],
   "source": [
    "def loss(output:torch.Tensor, target:torch.Tensor):\n",
    "    b, n, _ = output.shape\n",
    "    output = output.div(output.square().sum(dim=2).view(b, n, 1))\n",
    "    target = target.div(target.square().sum(dim=2).view(b, n, 1))\n",
    "    \n",
    "    l = output.multiply(target).sum(dim=2).exp().mean(dim = 1).mean()\n",
    "    return l"
   ]
  },
  {
   "cell_type": "code",
   "execution_count": 10,
   "id": "4ad9512b",
   "metadata": {},
   "outputs": [],
   "source": [
    "t1 = torch.zeros(10, 100)\n",
    "t2 = torch.ones(10, 100)\n",
    "t3 = torch.rand(10, 100)"
   ]
  },
  {
   "cell_type": "code",
   "execution_count": 11,
   "id": "164b0bfa",
   "metadata": {},
   "outputs": [],
   "source": [
    "new_t = torch.cat((t1, t2, t3), dim = 0)"
   ]
  },
  {
   "cell_type": "code",
   "execution_count": 12,
   "id": "46ebd122",
   "metadata": {},
   "outputs": [],
   "source": [
    "final_tensor = torch.permute((new_t.view(3, 10, -1)), (1, 2, 0))"
   ]
  },
  {
   "cell_type": "code",
   "execution_count": 13,
   "id": "7768686f",
   "metadata": {},
   "outputs": [
    {
     "data": {
      "text/plain": [
       "torch.Size([10, 10])"
      ]
     },
     "execution_count": 13,
     "metadata": {},
     "output_type": "execute_result"
    }
   ],
   "source": [
    "torch.tensordot(final_tensor, final_tensor, dims = ([1, 2], [1, 2])).shape"
   ]
  },
  {
   "cell_type": "code",
   "execution_count": 31,
   "id": "10b8b433",
   "metadata": {},
   "outputs": [
    {
     "name": "stdout",
     "output_type": "stream",
     "text": [
      "torch.Size([10, 100, 1]) torch.Size([10, 100, 3])\n"
     ]
    },
    {
     "data": {
      "text/plain": [
       "torch.Size([10, 100, 3])"
      ]
     },
     "execution_count": 31,
     "metadata": {},
     "output_type": "execute_result"
    }
   ],
   "source": [
    "norm = final_tensor.square().sum(dim=2).view(10, 100, 1)\n",
    "print(norm.shape, final_tensor.shape)\n",
    "final_tensor.div(norm).shape"
   ]
  },
  {
   "cell_type": "code",
   "execution_count": 27,
   "id": "beeb1bff",
   "metadata": {},
   "outputs": [
    {
     "data": {
      "text/plain": [
       "torch.Size([10, 3, 100])"
      ]
     },
     "execution_count": 27,
     "metadata": {},
     "output_type": "execute_result"
    }
   ],
   "source": [
    "final_tensor.square().sum(dim=2).view(10, 1, 100).expand(-1, 3, -1).shape"
   ]
  },
  {
   "cell_type": "code",
   "execution_count": 14,
   "id": "f331d679",
   "metadata": {},
   "outputs": [
    {
     "data": {
      "text/plain": [
       "torch.Size([10, 100])"
      ]
     },
     "execution_count": 14,
     "metadata": {},
     "output_type": "execute_result"
    }
   ],
   "source": [
    "torch.sum(torch.multiply(final_tensor, final_tensor), dim = 2).shape"
   ]
  },
  {
   "cell_type": "code",
   "execution_count": 47,
   "id": "d687aeb4",
   "metadata": {},
   "outputs": [
    {
     "data": {
      "text/plain": [
       "torch.Size([10, 100])"
      ]
     },
     "execution_count": 47,
     "metadata": {},
     "output_type": "execute_result"
    }
   ],
   "source": [
    "torch.norm(final_tensor, dim=2).shape"
   ]
  },
  {
   "cell_type": "code",
   "execution_count": 41,
   "id": "d62e6870",
   "metadata": {},
   "outputs": [
    {
     "data": {
      "text/plain": [
       "tensor(3.9833)"
      ]
     },
     "execution_count": 41,
     "metadata": {},
     "output_type": "execute_result"
    }
   ],
   "source": [
    "final_tensor.multiply(final_tensor).sum(dim=2).exp().mean(dim = 1).mean()"
   ]
  },
  {
   "cell_type": "code",
   "execution_count": 9,
   "id": "9396be3e",
   "metadata": {},
   "outputs": [
    {
     "data": {
      "text/plain": [
       "torch.Size([2, 3])"
      ]
     },
     "execution_count": 9,
     "metadata": {},
     "output_type": "execute_result"
    }
   ],
   "source": [
    "m = nn.Softmax(dim=1)\n",
    "input = torch.randn(2, 3)\n",
    "output = m(input)\n",
    "output.shape"
   ]
  },
  {
   "cell_type": "code",
   "execution_count": 15,
   "id": "140201fc",
   "metadata": {},
   "outputs": [],
   "source": [
    "loss = nn.MSELoss()\n",
    "input = torch.randn(3, 5, requires_grad=True)\n",
    "target = torch.randn(3, 5)\n",
    "output = loss(input, target)"
   ]
  },
  {
   "cell_type": "code",
   "execution_count": 16,
   "id": "9f30dfe2",
   "metadata": {},
   "outputs": [
    {
     "data": {
      "text/plain": [
       "tensor(1.7330, grad_fn=<MseLossBackward0>)"
      ]
     },
     "execution_count": 16,
     "metadata": {},
     "output_type": "execute_result"
    }
   ],
   "source": [
    "output"
   ]
  },
  {
   "cell_type": "code",
   "execution_count": 45,
   "id": "1c899704",
   "metadata": {},
   "outputs": [
    {
     "data": {
      "text/plain": [
       "tensor(2.2205)"
      ]
     },
     "execution_count": 45,
     "metadata": {},
     "output_type": "execute_result"
    }
   ],
   "source": [
    "loss(final_tensor, final_tensor)"
   ]
  },
  {
   "cell_type": "code",
   "execution_count": 62,
   "id": "05e9fe56",
   "metadata": {},
   "outputs": [],
   "source": [
    "input1 = torch.randn(10, 100, 3) #torch.tensor([[2, 3, 4]], dtype=torch.float32)\n",
    "input2 = torch.randn(10, 100, 3) #torch.tensor([[-2, -3, -4]], dtype=torch.float32)\n",
    "cos = nn.CosineSimilarity(dim=1, eps=1e-6)\n",
    "output = cos(input1, input2)"
   ]
  },
  {
   "cell_type": "code",
   "execution_count": 64,
   "id": "e7c0b672",
   "metadata": {},
   "outputs": [
    {
     "data": {
      "text/plain": [
       "torch.Size([10, 3])"
      ]
     },
     "execution_count": 64,
     "metadata": {},
     "output_type": "execute_result"
    }
   ],
   "source": [
    "output.shape"
   ]
  },
  {
   "cell_type": "code",
   "execution_count": null,
   "id": "67b4d8f3",
   "metadata": {},
   "outputs": [],
   "source": []
  }
 ],
 "metadata": {
  "kernelspec": {
   "display_name": "Python 3 (ipykernel)",
   "language": "python",
   "name": "python3"
  },
  "language_info": {
   "codemirror_mode": {
    "name": "ipython",
    "version": 3
   },
   "file_extension": ".py",
   "mimetype": "text/x-python",
   "name": "python",
   "nbconvert_exporter": "python",
   "pygments_lexer": "ipython3",
   "version": "3.8.10"
  }
 },
 "nbformat": 4,
 "nbformat_minor": 5
}

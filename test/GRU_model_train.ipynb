{
 "cells": [
  {
   "cell_type": "code",
   "execution_count": 1,
   "id": "d3142275",
   "metadata": {},
   "outputs": [],
   "source": [
    "%load_ext autoreload\n",
    "%autoreload 2"
   ]
  },
  {
   "cell_type": "code",
   "execution_count": 9,
   "id": "9672052c",
   "metadata": {},
   "outputs": [],
   "source": [
    "import argparse\n",
    "import os\n",
    "from ast import arg\n",
    "\n",
    "import torch\n",
    "import torch.nn as nn\n",
    "import torch.optim as optim\n",
    "from torch.utils.data import DataLoader\n",
    "\n",
    "from wlcorr import EncoderDecoderStaticDataset, EncoderDecoder1DCNN_GRU\n",
    "\n",
    "from matplotlib import pyplot as plt\n",
    "import numpy as np\n",
    "\n",
    "from torchinfo import summary"
   ]
  },
  {
   "cell_type": "code",
   "execution_count": 3,
   "id": "7a04d0c6",
   "metadata": {},
   "outputs": [],
   "source": [
    "class VRLoss(nn.Module):\n",
    "\n",
    "    def __init__(self, w_cos1 = 1., w_cos2 = 1., w_l2 = 2.) -> None:\n",
    "        super().__init__()\n",
    "        self.cosinesim1 = nn.CosineSimilarity(dim=1, eps=1e-6)\n",
    "        self.cosinesim2 = nn.CosineSimilarity(dim=2, eps=1e-6)\n",
    "        self.l2 = nn.L1Loss()\n",
    "        s = w_cos1 + w_cos2 + w_l2\n",
    "        self.w_cos1, self.w_cos2, self.w_l2 = w_cos1/s, w_cos2/s, w_l2/s\n",
    "\n",
    "    def forward(self, output:torch.Tensor, target:torch.Tensor):\n",
    "        b, n, _ = output.shape\n",
    "        sim1 = -self.cosinesim1(output, target)\n",
    "        sim2 = -self.cosinesim2(output, target)\n",
    "        l2 = self.l2(output, target)/100.\n",
    "\n",
    "        l = self.w_cos1*(sim1.exp().mean()-1e-1) + self.w_cos2*(sim2.exp().mean()-1e-1) - self.w_l2*l2.log()\n",
    "        \n",
    "        return l"
   ]
  },
  {
   "cell_type": "code",
   "execution_count": 4,
   "id": "22d5a399",
   "metadata": {},
   "outputs": [],
   "source": [
    "dataset = EncoderDecoderStaticDataset('/home/shivampr21/DKLabs/OilGasProject/WellLogCorrelation/data', patch_size=50-2, sig_smoothening=3)\n",
    "dataset.dataset.wells_list = dataset.dataset.wells_list.repeat(5)\n",
    "dataloader = DataLoader(dataset, batch_size = 16, shuffle = True, num_workers = 6)\n",
    "data_len = len(dataloader)\n",
    "log_n = int(data_len//2)"
   ]
  },
  {
   "cell_type": "code",
   "execution_count": 5,
   "id": "e6c5acf5",
   "metadata": {},
   "outputs": [
    {
     "data": {
      "image/png": "[encoded data removed]",
      "text/plain": [
       "<Figure size 432x288 with 1 Axes>"
      ]
     },
     "metadata": {
      "needs_background": "light"
     },
     "output_type": "display_data"
    }
   ],
   "source": [
    "sample_data = dataset[2]\n",
    "plt.plot(sample_data[0, :], label='GR')\n",
    "plt.plot(sample_data[1, :], label='DTC')\n",
    "plt.legend()\n",
    "plt.show()"
   ]
  },
  {
   "cell_type": "code",
   "execution_count": 10,
   "id": "1913295f",
   "metadata": {},
   "outputs": [],
   "source": [
    "device = torch.device('cuda' if torch.cuda.is_available() else 'cpu')"
   ]
  },
  {
   "cell_type": "code",
   "execution_count": 11,
   "id": "b79c94dd",
   "metadata": {},
   "outputs": [
    {
     "data": {
      "text/plain": [
       "EncoderDecoder1DCNN_GRU(\n",
       "  (encoder): Encoder1DCNN_GRU(\n",
       "    (activation): SELU()\n",
       "    (cnn1): Conv1d(2, 5, kernel_size=(5,), stride=(1,))\n",
       "    (lstm1): GRU(5, 5, batch_first=True)\n",
       "    (cnn2): Conv1d(5, 10, kernel_size=(5,), stride=(1,))\n",
       "    (lstm2): GRU(10, 10, batch_first=True)\n",
       "    (cnn3): Conv1d(10, 20, kernel_size=(5,), stride=(1,))\n",
       "    (lstm3): GRU(20, 20, batch_first=True)\n",
       "    (cnn4): Conv1d(20, 20, kernel_size=(5,), stride=(1,))\n",
       "    (lstm4): GRU(20, 20, batch_first=True)\n",
       "    (cnn5): Conv1d(20, 20, kernel_size=(5,), stride=(1,))\n",
       "    (lstm5): GRU(20, 20, batch_first=True)\n",
       "    (conv_last): Conv1d(20, 10, kernel_size=(5,), stride=(1,))\n",
       "  )\n",
       "  (decoder): Decoder1DCNN_GRU(\n",
       "    (activation): SELU()\n",
       "    (cnn1): ConvTranspose1d(10, 20, kernel_size=(5,), stride=(1,))\n",
       "    (lstm1): GRU(20, 5, batch_first=True)\n",
       "    (cnn2): ConvTranspose1d(5, 10, kernel_size=(5,), stride=(1,))\n",
       "    (lstm2): GRU(10, 10, batch_first=True)\n",
       "    (cnn3): ConvTranspose1d(10, 5, kernel_size=(5,), stride=(1,))\n",
       "    (lstm3): GRU(5, 5, batch_first=True)\n",
       "    (cnn4): ConvTranspose1d(5, 5, kernel_size=(5,), stride=(1,))\n",
       "    (lstm4): GRU(5, 5, batch_first=True)\n",
       "    (cnn5): ConvTranspose1d(5, 5, kernel_size=(5,), stride=(1,))\n",
       "    (lstm5): GRU(5, 5, batch_first=True)\n",
       "    (conv_last): Conv1d(5, 2, kernel_size=(3,), stride=(1,))\n",
       "  )\n",
       ")"
      ]
     },
     "execution_count": 11,
     "metadata": {},
     "output_type": "execute_result"
    }
   ],
   "source": [
    "model = EncoderDecoder1DCNN_GRU(2, in_size=50, activation=nn.SELU, norm_layer=None)\n",
    "model.to(device)\n",
    "model.train()"
   ]
  },
  {
   "cell_type": "code",
   "execution_count": 12,
   "id": "c4d01423",
   "metadata": {},
   "outputs": [
    {
     "data": {
      "text/plain": [
       "==========================================================================================\n",
       "Layer (type:depth-idx)                   Output Shape              Param #\n",
       "==========================================================================================\n",
       "EncoderDecoder1DCNN_GRU                  --                        --\n",
       "├─Encoder1DCNN_GRU: 1-1                  [11, 10, 26]              --\n",
       "│    └─Conv1d: 2-1                       [11, 5, 46]               55\n",
       "│    └─SELU: 2-2                         [11, 46, 5]               --\n",
       "│    └─GRU: 2-3                          [11, 46, 5]               180\n",
       "│    └─Conv1d: 2-4                       [11, 10, 42]              260\n",
       "│    └─SELU: 2-5                         [11, 42, 10]              --\n",
       "│    └─GRU: 2-6                          [11, 42, 10]              660\n",
       "│    └─Conv1d: 2-7                       [11, 20, 38]              1,020\n",
       "│    └─SELU: 2-8                         [11, 38, 20]              --\n",
       "│    └─GRU: 2-9                          [11, 38, 20]              2,520\n",
       "│    └─Conv1d: 2-10                      [11, 20, 34]              2,020\n",
       "│    └─SELU: 2-11                        [11, 34, 20]              --\n",
       "│    └─GRU: 2-12                         [11, 34, 20]              2,520\n",
       "│    └─Conv1d: 2-13                      [11, 20, 30]              2,020\n",
       "│    └─SELU: 2-14                        [11, 30, 20]              --\n",
       "│    └─GRU: 2-15                         [11, 30, 20]              2,520\n",
       "│    └─Conv1d: 2-16                      [11, 10, 26]              1,010\n",
       "├─Decoder1DCNN_GRU: 1-2                  [11, 2, 44]               --\n",
       "│    └─ConvTranspose1d: 2-17             [11, 20, 30]              1,020\n",
       "│    └─SELU: 2-18                        [11, 30, 20]              --\n",
       "│    └─GRU: 2-19                         [11, 30, 5]               405\n",
       "│    └─ConvTranspose1d: 2-20             [11, 10, 34]              260\n",
       "│    └─SELU: 2-21                        [11, 34, 10]              --\n",
       "│    └─GRU: 2-22                         [11, 34, 10]              660\n",
       "│    └─ConvTranspose1d: 2-23             [11, 5, 38]               255\n",
       "│    └─SELU: 2-24                        [11, 38, 5]               --\n",
       "│    └─GRU: 2-25                         [11, 38, 5]               180\n",
       "│    └─ConvTranspose1d: 2-26             [11, 5, 42]               130\n",
       "│    └─SELU: 2-27                        [11, 42, 5]               --\n",
       "│    └─GRU: 2-28                         [11, 42, 5]               180\n",
       "│    └─ConvTranspose1d: 2-29             [11, 5, 46]               130\n",
       "│    └─SELU: 2-30                        [11, 46, 5]               --\n",
       "│    └─GRU: 2-31                         [11, 46, 5]               180\n",
       "│    └─Conv1d: 2-32                      [11, 2, 44]               32\n",
       "==========================================================================================\n",
       "Total params: 18,217\n",
       "Trainable params: 18,217\n",
       "Non-trainable params: 0\n",
       "Total mult-adds (M): 6.82\n",
       "==========================================================================================\n",
       "Input size (MB): 0.00\n",
       "Forward/backward pass size (MB): 0.74\n",
       "Params size (MB): 0.07\n",
       "Estimated Total Size (MB): 0.82\n",
       "=========================================================================================="
      ]
     },
     "execution_count": 12,
     "metadata": {},
     "output_type": "execute_result"
    }
   ],
   "source": [
    "summary(model, (11, 2, 50))"
   ]
  },
  {
   "cell_type": "code",
   "execution_count": 13,
   "id": "6f58cf68",
   "metadata": {},
   "outputs": [],
   "source": [
    "criterion =  VRLoss(w_cos1=0.0, w_cos2=0.5, w_l2=2.0) # Loss function\n",
    "params_list = model.parameters() # model parameters\n",
    "optimizer = optim.AdamW(params_list, lr = 0.00001, weight_decay=0.000001)"
   ]
  },
  {
   "cell_type": "code",
   "execution_count": 14,
   "id": "8230fda9",
   "metadata": {},
   "outputs": [],
   "source": [
    "def compute_loss(dl, model, crt):\n",
    "    total_loss = 0.\n",
    "    cnt = 0\n",
    "    # since we're not training, we don't need to calculate the gradients for our outputs\n",
    "    with torch.no_grad():\n",
    "        for data in dl:\n",
    "            data = data.to(device)\n",
    "            \n",
    "            # calculate outputs by running images through the network\n",
    "            output = model(data)\n",
    "\n",
    "            loss = crt(output, data)\n",
    "            \n",
    "            # print(predicted, labels)\n",
    "            total_loss += loss.item()*data.size(0)\n",
    "            cnt += data.size(0)\n",
    "    return total_loss/cnt"
   ]
  },
  {
   "cell_type": "code",
   "execution_count": 15,
   "id": "48fbb166",
   "metadata": {},
   "outputs": [],
   "source": [
    "rll = []\n",
    "total_loss = []"
   ]
  },
  {
   "cell_type": "code",
   "execution_count": null,
   "id": "c201e010",
   "metadata": {
    "scrolled": true
   },
   "outputs": [
    {
     "name": "stdout",
     "output_type": "stream",
     "text": [
      "Total loss : 3.9259403929418446\n",
      "Epoch : 0, Iteration : 14,Running loss : 3.926964108149211\n",
      "Epoch : 0, Iteration : 29,Running loss : 3.9270427862803143\n",
      "Total loss : 3.9260391634337757\n",
      "Epoch : 1, Iteration : 14,Running loss : 3.92625249226888\n",
      "Epoch : 1, Iteration : 29,Running loss : 3.9261075178782145\n",
      "Total loss : 3.9267578193119594\n",
      "Epoch : 2, Iteration : 14,Running loss : 3.927007055282593\n",
      "Epoch : 2, Iteration : 29,Running loss : 3.9268171628316244\n",
      "Total loss : 3.92601093467401\n",
      "Epoch : 3, Iteration : 14,Running loss : 3.9259610017140707\n",
      "Epoch : 3, Iteration : 29,Running loss : 3.926727072397868\n",
      "Total loss : 3.9272047928401403\n",
      "Epoch : 4, Iteration : 14,Running loss : 3.925884183247884\n",
      "Epoch : 4, Iteration : 29,Running loss : 3.926109472910563\n",
      "Total loss : 3.9263181083056393\n",
      "Epoch : 5, Iteration : 14,Running loss : 3.92614270846049\n",
      "Epoch : 5, Iteration : 29,Running loss : 3.925752321879069\n",
      "Total loss : 3.92667361668178\n",
      "Epoch : 6, Iteration : 14,Running loss : 3.926003185908\n",
      "Epoch : 6, Iteration : 29,Running loss : 3.9260499795277912\n",
      "Total loss : 3.926079817207492\n",
      "Epoch : 7, Iteration : 14,Running loss : 3.925736904144287\n",
      "Epoch : 7, Iteration : 29,Running loss : 3.9267733732859296\n",
      "Total loss : 3.92640325293249\n",
      "Epoch : 8, Iteration : 14,Running loss : 3.92529714902242\n",
      "Epoch : 8, Iteration : 29,Running loss : 3.9263187885284423\n",
      "Total loss : 3.9259512463394475\n",
      "Epoch : 9, Iteration : 14,Running loss : 3.9249714533487956\n",
      "Epoch : 9, Iteration : 29,Running loss : 3.9271581013997396\n",
      "Total loss : 3.9262529869468845\n",
      "Epoch : 10, Iteration : 14,Running loss : 3.9261500517527264\n",
      "Epoch : 10, Iteration : 29,Running loss : 3.925554354985555\n",
      "Total loss : 3.9260869902007434\n",
      "Epoch : 11, Iteration : 14,Running loss : 3.926027695337931\n",
      "Epoch : 11, Iteration : 29,Running loss : 3.925580390294393\n",
      "Total loss : 3.926066698346819\n",
      "Epoch : 12, Iteration : 14,Running loss : 3.9264230251312258\n",
      "Epoch : 12, Iteration : 29,Running loss : 3.926001501083374\n",
      "Total loss : 3.925945181749305\n",
      "Epoch : 13, Iteration : 14,Running loss : 3.925007724761963\n",
      "Epoch : 13, Iteration : 29,Running loss : 3.9269508520762124\n",
      "Total loss : 3.9252325184491217\n",
      "Epoch : 14, Iteration : 14,Running loss : 3.9256502946217853\n",
      "Epoch : 14, Iteration : 29,Running loss : 3.925078105926514\n",
      "Total loss : 3.925893124755548\n",
      "Epoch : 15, Iteration : 14,Running loss : 3.9259188334147135\n",
      "Epoch : 15, Iteration : 29,Running loss : 3.9260849952697754\n",
      "Total loss : 3.925358773250969\n",
      "Epoch : 16, Iteration : 14,Running loss : 3.926332219441732\n",
      "Epoch : 16, Iteration : 29,Running loss : 3.925588051478068\n",
      "Total loss : 3.925834034900276\n",
      "Epoch : 17, Iteration : 14,Running loss : 3.9249592940012614\n",
      "Epoch : 17, Iteration : 29,Running loss : 3.9244163990020753\n",
      "Total loss : 3.92497429945031\n",
      "Epoch : 18, Iteration : 14,Running loss : 3.926234515508016\n",
      "Epoch : 18, Iteration : 29,Running loss : 3.9249067624409992\n",
      "Total loss : 3.924705221215073\n",
      "Epoch : 19, Iteration : 14,Running loss : 3.92498410542806\n",
      "Epoch : 19, Iteration : 29,Running loss : 3.92456153233846\n",
      "Total loss : 3.9250181334359304\n",
      "Epoch : 20, Iteration : 14,Running loss : 3.925306526819865\n",
      "Epoch : 20, Iteration : 29,Running loss : 3.925909662246704\n",
      "Total loss : 3.924235236888029\n",
      "Epoch : 21, Iteration : 14,Running loss : 3.9236849308013917\n",
      "Epoch : 21, Iteration : 29,Running loss : 3.9236632188161216\n",
      "Total loss : 3.9246204765475525\n",
      "Epoch : 22, Iteration : 14,Running loss : 3.9245773474375407\n",
      "Epoch : 22, Iteration : 29,Running loss : 3.923615503311157\n",
      "Total loss : 3.923295495948013\n",
      "Epoch : 23, Iteration : 14,Running loss : 3.924670998255412\n",
      "Epoch : 23, Iteration : 29,Running loss : 3.924581591288249\n",
      "Total loss : 3.9237155466663594\n",
      "Epoch : 24, Iteration : 14,Running loss : 3.922836907704671\n",
      "Epoch : 24, Iteration : 29,Running loss : 3.9223438262939454\n",
      "Total loss : 3.9226975168500626\n",
      "Epoch : 25, Iteration : 14,Running loss : 3.9229371229807537\n",
      "Epoch : 25, Iteration : 29,Running loss : 3.9216182390848795\n",
      "Total loss : 3.9224751686563297\n",
      "Epoch : 26, Iteration : 14,Running loss : 3.9218647321065268\n",
      "Epoch : 26, Iteration : 29,Running loss : 3.9212928930918376\n",
      "Total loss : 3.921123218536377\n",
      "Epoch : 27, Iteration : 14,Running loss : 3.921578868230184\n",
      "Epoch : 27, Iteration : 29,Running loss : 3.919509506225586\n",
      "Total loss : 3.9189958046893683\n",
      "Epoch : 28, Iteration : 14,Running loss : 3.920049778620402\n",
      "Epoch : 28, Iteration : 29,Running loss : 3.917404063542684\n",
      "Total loss : 3.9152564399096432\n",
      "Epoch : 29, Iteration : 14,Running loss : 3.9153898398081464\n",
      "Epoch : 29, Iteration : 29,Running loss : 3.913974634806315\n",
      "Total loss : 3.91475280742256\n",
      "Epoch : 30, Iteration : 14,Running loss : 3.914659547805786\n",
      "Epoch : 30, Iteration : 29,Running loss : 3.9140394846598308\n",
      "Total loss : 3.9144320984275973\n",
      "Epoch : 31, Iteration : 14,Running loss : 3.9148252328236897\n",
      "Epoch : 31, Iteration : 29,Running loss : 3.913668727874756\n",
      "Total loss : 3.9127946688204394\n",
      "Epoch : 32, Iteration : 14,Running loss : 3.91382524172465\n",
      "Epoch : 32, Iteration : 29,Running loss : 3.9129526138305666\n",
      "Total loss : 3.9125255954508877\n",
      "Epoch : 33, Iteration : 14,Running loss : 3.9119086424509684\n",
      "Epoch : 33, Iteration : 29,Running loss : 3.911046202977498\n",
      "Total loss : 3.912102642837836\n",
      "Epoch : 34, Iteration : 14,Running loss : 3.9120171864827475\n",
      "Epoch : 34, Iteration : 29,Running loss : 3.9118716716766357\n",
      "Total loss : 3.91133500410586\n",
      "Epoch : 35, Iteration : 14,Running loss : 3.911046107610067\n",
      "Epoch : 35, Iteration : 29,Running loss : 3.910809564590454\n",
      "Total loss : 3.9109870355956406\n",
      "Epoch : 36, Iteration : 14,Running loss : 3.910065841674805\n",
      "Epoch : 36, Iteration : 29,Running loss : 3.9097835858662924\n",
      "Total loss : 3.909328098686374\n",
      "Epoch : 37, Iteration : 14,Running loss : 3.908634074529012\n",
      "Epoch : 37, Iteration : 29,Running loss : 3.9074397881825766\n",
      "Total loss : 3.9077515903784303\n",
      "Epoch : 38, Iteration : 14,Running loss : 3.907659069697062\n",
      "Epoch : 38, Iteration : 29,Running loss : 3.9068289279937742\n",
      "Total loss : 3.9066971545316735\n",
      "Epoch : 39, Iteration : 14,Running loss : 3.9069883982340494\n",
      "Epoch : 39, Iteration : 29,Running loss : 3.9061660448710125\n",
      "Total loss : 3.9063711526442546\n",
      "Epoch : 40, Iteration : 14,Running loss : 3.9054535230000815\n",
      "Epoch : 40, Iteration : 29,Running loss : 3.903905407587687\n",
      "Total loss : 3.904821214870531\n",
      "Epoch : 41, Iteration : 14,Running loss : 3.9041690985361734\n",
      "Epoch : 41, Iteration : 29,Running loss : 3.9028634230295816\n",
      "Total loss : 3.9029312464655663\n",
      "Epoch : 42, Iteration : 14,Running loss : 3.901398038864136\n",
      "Epoch : 42, Iteration : 29,Running loss : 3.9012537002563477\n",
      "Total loss : 3.9013223901086924\n",
      "Epoch : 43, Iteration : 14,Running loss : 3.9003362973531086\n",
      "Epoch : 43, Iteration : 29,Running loss : 3.9008616765340167\n",
      "Total loss : 3.900312873295375\n",
      "Epoch : 44, Iteration : 14,Running loss : 3.9002525488535564\n",
      "Epoch : 44, Iteration : 29,Running loss : 3.9001498858133954\n",
      "Total loss : 3.900129897253854\n",
      "Epoch : 45, Iteration : 14,Running loss : 3.899714231491089\n",
      "Epoch : 45, Iteration : 29,Running loss : 3.900072447458903\n",
      "Total loss : 3.8998787286330243\n",
      "Epoch : 46, Iteration : 14,Running loss : 3.8995490868886313\n",
      "Epoch : 46, Iteration : 29,Running loss : 3.8998695850372314\n",
      "Total loss : 3.8995715676521767\n",
      "Epoch : 47, Iteration : 14,Running loss : 3.899035676320394\n",
      "Epoch : 47, Iteration : 29,Running loss : 3.899272839228312\n",
      "Total loss : 3.8990540086006633\n",
      "Epoch : 48, Iteration : 14,Running loss : 3.8984093983968098\n",
      "Epoch : 48, Iteration : 29,Running loss : 3.89876119295756\n",
      "Total loss : 3.8987630688414283\n",
      "Epoch : 49, Iteration : 14,Running loss : 3.8975942452748615\n",
      "Epoch : 49, Iteration : 29,Running loss : 3.8989717165629068\n",
      "Total loss : 3.8980392923160476\n",
      "Epoch : 50, Iteration : 14,Running loss : 3.898163398106893\n",
      "Epoch : 50, Iteration : 29,Running loss : 3.898059272766113\n",
      "Total loss : 3.898102292236017\n",
      "Epoch : 51, Iteration : 14,Running loss : 3.8986119588216144\n",
      "Epoch : 51, Iteration : 29,Running loss : 3.8976636568705243\n",
      "Total loss : 3.897541755559493\n",
      "Epoch : 52, Iteration : 14,Running loss : 3.8987030824025473\n",
      "Epoch : 52, Iteration : 29,Running loss : 3.897137196858724\n",
      "Total loss : 3.8979464170884115\n",
      "Epoch : 53, Iteration : 14,Running loss : 3.897757371266683\n",
      "Epoch : 53, Iteration : 29,Running loss : 3.8979288419087728\n"
     ]
    },
    {
     "name": "stdout",
     "output_type": "stream",
     "text": [
      "Total loss : 3.898147351401193\n",
      "Epoch : 54, Iteration : 14,Running loss : 3.8975047429402667\n",
      "Epoch : 54, Iteration : 29,Running loss : 3.8972050825754803\n",
      "Total loss : 3.8973810254311076\n",
      "Epoch : 55, Iteration : 14,Running loss : 3.8986307462056478\n",
      "Epoch : 55, Iteration : 29,Running loss : 3.8974133014678953\n",
      "Total loss : 3.8980656224854138\n",
      "Epoch : 56, Iteration : 14,Running loss : 3.8979036808013916\n",
      "Epoch : 56, Iteration : 29,Running loss : 3.8974610328674317\n",
      "Total loss : 3.897532014457547\n",
      "Epoch : 57, Iteration : 14,Running loss : 3.8968735694885255\n",
      "Epoch : 57, Iteration : 29,Running loss : 3.8969653129577635\n",
      "Total loss : 3.8978753644592907\n",
      "Epoch : 58, Iteration : 14,Running loss : 3.8970822652180988\n",
      "Epoch : 58, Iteration : 29,Running loss : 3.897713788350423\n",
      "Total loss : 3.8970215534677313\n",
      "Epoch : 59, Iteration : 14,Running loss : 3.897574504216512\n",
      "Epoch : 59, Iteration : 29,Running loss : 3.896990744272868\n",
      "Total loss : 3.897740044885752\n",
      "Epoch : 60, Iteration : 14,Running loss : 3.8977235635121663\n",
      "Epoch : 60, Iteration : 29,Running loss : 3.897268803914388\n",
      "Total loss : 3.897467851638794\n",
      "Epoch : 61, Iteration : 14,Running loss : 3.8973034858703612\n",
      "Epoch : 61, Iteration : 29,Running loss : 3.896954568227132\n",
      "Total loss : 3.8972485795312997\n",
      "Epoch : 62, Iteration : 14,Running loss : 3.8967262268066407\n",
      "Epoch : 62, Iteration : 29,Running loss : 3.897060998280843\n",
      "Total loss : 3.8973045884346473\n",
      "Epoch : 63, Iteration : 14,Running loss : 3.8975266933441164\n",
      "Epoch : 63, Iteration : 29,Running loss : 3.8978438059488933\n",
      "Total loss : 3.897360378382157\n",
      "Epoch : 64, Iteration : 14,Running loss : 3.896683406829834\n",
      "Epoch : 64, Iteration : 29,Running loss : 3.8973631540934246\n",
      "Total loss : 3.8968885869395975\n",
      "Epoch : 65, Iteration : 14,Running loss : 3.8970031420389812\n",
      "Epoch : 65, Iteration : 29,Running loss : 3.8967872142791746\n",
      "Total loss : 3.8966114929744173\n",
      "Epoch : 66, Iteration : 14,Running loss : 3.896670850118001\n",
      "Epoch : 66, Iteration : 29,Running loss : 3.8975270907084147\n",
      "Total loss : 3.897041017182019\n",
      "Epoch : 67, Iteration : 14,Running loss : 3.897460635503133\n",
      "Epoch : 67, Iteration : 29,Running loss : 3.896754344304403\n",
      "Total loss : 3.8967016229824143\n",
      "Epoch : 68, Iteration : 14,Running loss : 3.897173309326172\n",
      "Epoch : 68, Iteration : 29,Running loss : 3.8975719292958577\n",
      "Total loss : 3.897675323486328\n",
      "Epoch : 69, Iteration : 14,Running loss : 3.8967393080393475\n",
      "Epoch : 69, Iteration : 29,Running loss : 3.8974014123280845\n",
      "Total loss : 3.89679445539202\n",
      "Epoch : 70, Iteration : 14,Running loss : 3.8969509601593018\n",
      "Epoch : 70, Iteration : 29,Running loss : 3.8969746430714927\n",
      "Total loss : 3.8969243117741175\n",
      "Epoch : 71, Iteration : 14,Running loss : 3.8970376173655192\n",
      "Epoch : 71, Iteration : 29,Running loss : 3.897272300720215\n",
      "Total loss : 3.896599564260366\n",
      "Epoch : 72, Iteration : 14,Running loss : 3.8968268712361653\n",
      "Epoch : 72, Iteration : 29,Running loss : 3.8968698501586916\n",
      "Total loss : 3.8961848910973997\n",
      "Epoch : 73, Iteration : 14,Running loss : 3.8969350973765056\n",
      "Epoch : 73, Iteration : 29,Running loss : 3.8971391518910727\n",
      "Total loss : 3.8965850362972336\n",
      "Epoch : 74, Iteration : 14,Running loss : 3.896802059809367\n",
      "Epoch : 74, Iteration : 29,Running loss : 3.897008196512858\n",
      "Total loss : 3.8964012496325435\n",
      "Epoch : 75, Iteration : 14,Running loss : 3.8972781817118327\n",
      "Epoch : 75, Iteration : 29,Running loss : 3.896614154179891\n",
      "Total loss : 3.8967426115152786\n",
      "Epoch : 76, Iteration : 14,Running loss : 3.8968217849731444\n",
      "Epoch : 76, Iteration : 29,Running loss : 3.8966688950856527\n",
      "Total loss : 3.896465009572555\n",
      "Epoch : 77, Iteration : 14,Running loss : 3.8972334702809652\n",
      "Epoch : 77, Iteration : 29,Running loss : 3.8957948207855226\n",
      "Total loss : 3.8968786122847576\n",
      "Epoch : 78, Iteration : 14,Running loss : 3.8970723311106363\n",
      "Epoch : 78, Iteration : 29,Running loss : 3.8971843401590984\n",
      "Total loss : 3.896467952339017\n",
      "Epoch : 79, Iteration : 14,Running loss : 3.8972657203674315\n",
      "Epoch : 79, Iteration : 29,Running loss : 3.8973323345184325\n",
      "Total loss : 3.8967635553710314\n",
      "Epoch : 80, Iteration : 14,Running loss : 3.8962950706481934\n",
      "Epoch : 80, Iteration : 29,Running loss : 3.896731456120809\n",
      "Total loss : 3.896837837842046\n",
      "Epoch : 81, Iteration : 14,Running loss : 3.896691576639811\n",
      "Epoch : 81, Iteration : 29,Running loss : 3.896178881327311\n",
      "Total loss : 3.896799865060923\n",
      "Epoch : 82, Iteration : 14,Running loss : 3.896436675389608\n",
      "Epoch : 82, Iteration : 29,Running loss : 3.895939652125041\n",
      "Total loss : 3.896549771756542\n",
      "Epoch : 83, Iteration : 14,Running loss : 3.8961891174316405\n",
      "Epoch : 83, Iteration : 29,Running loss : 3.8963302771250405\n",
      "Total loss : 3.896217614777234\n",
      "Epoch : 84, Iteration : 14,Running loss : 3.8967711766560873\n",
      "Epoch : 84, Iteration : 29,Running loss : 3.8962943871816\n",
      "Total loss : 3.896850148025824\n",
      "Epoch : 85, Iteration : 14,Running loss : 3.896387227376302\n",
      "Epoch : 85, Iteration : 29,Running loss : 3.897137101491292\n",
      "Total loss : 3.895866683064675\n",
      "Epoch : 86, Iteration : 14,Running loss : 3.89577792485555\n",
      "Epoch : 86, Iteration : 29,Running loss : 3.8966184139251707\n",
      "Total loss : 3.8968200265144817\n",
      "Epoch : 87, Iteration : 14,Running loss : 3.896573034922282\n",
      "Epoch : 87, Iteration : 29,Running loss : 3.8958449522654215\n",
      "Total loss : 3.8965076816325284\n",
      "Epoch : 88, Iteration : 14,Running loss : 3.8962008476257326\n",
      "Epoch : 88, Iteration : 29,Running loss : 3.896376355489095\n",
      "Total loss : 3.8963772014695772\n",
      "Epoch : 89, Iteration : 14,Running loss : 3.895833698908488\n",
      "Epoch : 89, Iteration : 29,Running loss : 3.8956630706787108\n",
      "Total loss : 3.8967515011222993\n",
      "Epoch : 90, Iteration : 14,Running loss : 3.8964454332987466\n",
      "Epoch : 90, Iteration : 29,Running loss : 3.8955970764160157\n",
      "Total loss : 3.896434775177313\n",
      "Epoch : 91, Iteration : 14,Running loss : 3.895917797088623\n",
      "Epoch : 91, Iteration : 29,Running loss : 3.8966856638590497\n",
      "Total loss : 3.8959490639822825\n",
      "Epoch : 92, Iteration : 14,Running loss : 3.896026833852132\n",
      "Epoch : 92, Iteration : 29,Running loss : 3.8973629315694174\n",
      "Total loss : 3.895874229742556\n",
      "Epoch : 93, Iteration : 14,Running loss : 3.8966133912404377\n",
      "Epoch : 93, Iteration : 29,Running loss : 3.896788311004639\n",
      "Total loss : 3.895945134454844\n",
      "Epoch : 94, Iteration : 14,Running loss : 3.896070639292399\n",
      "Epoch : 94, Iteration : 29,Running loss : 3.895766258239746\n",
      "Total loss : 3.896319868126694\n",
      "Epoch : 95, Iteration : 14,Running loss : 3.8960400263468427\n",
      "Epoch : 95, Iteration : 29,Running loss : 3.8968337059020994\n",
      "Total loss : 3.8960719137775657\n",
      "Epoch : 96, Iteration : 14,Running loss : 3.8964970906575522\n",
      "Epoch : 96, Iteration : 29,Running loss : 3.8963896592458087\n",
      "Total loss : 3.8959393121758286\n",
      "Epoch : 97, Iteration : 14,Running loss : 3.8953283468882245\n",
      "Epoch : 97, Iteration : 29,Running loss : 3.8964893341064455\n",
      "Total loss : 3.8962574715517007\n",
      "Epoch : 98, Iteration : 14,Running loss : 3.8964163780212404\n",
      "Epoch : 98, Iteration : 29,Running loss : 3.8955977598826093\n",
      "Total loss : 3.895977647937074\n",
      "Epoch : 99, Iteration : 14,Running loss : 3.8965137163798014\n",
      "Epoch : 99, Iteration : 29,Running loss : 3.895646508534749\n",
      "Total loss : 3.895894397034937\n",
      "Epoch : 100, Iteration : 14,Running loss : 3.8959550857543945\n",
      "Epoch : 100, Iteration : 29,Running loss : 3.8960909207661945\n",
      "Total loss : 3.8960752253629725\n",
      "Epoch : 101, Iteration : 14,Running loss : 3.8962440808614094\n",
      "Epoch : 101, Iteration : 29,Running loss : 3.8969657103220623\n",
      "Total loss : 3.8962473898517844\n",
      "Epoch : 102, Iteration : 14,Running loss : 3.8962329864501952\n",
      "Epoch : 102, Iteration : 29,Running loss : 3.8958951950073244\n",
      "Total loss : 3.895870928861657\n",
      "Epoch : 103, Iteration : 14,Running loss : 3.895753781000773\n",
      "Epoch : 103, Iteration : 29,Running loss : 3.8968755563100177\n",
      "Total loss : 3.896074441987641\n",
      "Epoch : 104, Iteration : 14,Running loss : 3.8959548314412435\n",
      "Epoch : 104, Iteration : 29,Running loss : 3.896773370107015\n",
      "Total loss : 3.896192388145291\n",
      "Epoch : 105, Iteration : 14,Running loss : 3.8962605635325116\n",
      "Epoch : 105, Iteration : 29,Running loss : 3.896243095397949\n",
      "Total loss : 3.896139771597726\n",
      "Epoch : 106, Iteration : 14,Running loss : 3.89558588663737\n",
      "Epoch : 106, Iteration : 29,Running loss : 3.896597178777059\n",
      "Total loss : 3.895540393128687\n",
      "Epoch : 107, Iteration : 14,Running loss : 3.8956275304158527\n"
     ]
    },
    {
     "name": "stdout",
     "output_type": "stream",
     "text": [
      "Epoch : 107, Iteration : 29,Running loss : 3.896125491460164\n",
      "Total loss : 3.8958556194694673\n",
      "Epoch : 108, Iteration : 14,Running loss : 3.894735304514567\n",
      "Epoch : 108, Iteration : 29,Running loss : 3.8973873297373456\n",
      "Total loss : 3.895994341130159\n",
      "Epoch : 109, Iteration : 14,Running loss : 3.8962162494659425\n",
      "Epoch : 109, Iteration : 29,Running loss : 3.8958011945088704\n",
      "Total loss : 3.895530196598598\n"
     ]
    }
   ],
   "source": [
    "model.train()\n",
    "total_loss += [compute_loss(dataloader, model, criterion)]\n",
    "print(f'Total loss : {total_loss[-1]}')\n",
    "for epoch in range(1000):\n",
    "    running_loss = 0.0\n",
    "    for i, data in enumerate(dataloader):\n",
    "        data = data.to(device) # Move data to target device\n",
    "\n",
    "        # zero the parameter gradients\n",
    "        optimizer.zero_grad()\n",
    "\n",
    "        output = model(data)\n",
    "                \n",
    "        loss = criterion(output, data)\n",
    "        loss.backward()\n",
    "        optimizer.step()\n",
    "\n",
    "        running_loss += loss.item()\n",
    "\n",
    "        if i%log_n == log_n-1:\n",
    "            rll += [epoch, i, running_loss]\n",
    "            print(f'Epoch : {epoch}, Iteration : {i},Running loss : {running_loss/log_n}')\n",
    "            running_loss = 0\n",
    "    total_loss += [compute_loss(dataloader, model, criterion)]\n",
    "    print(f'Total loss : {total_loss[-1]}')"
   ]
  },
  {
   "cell_type": "code",
   "execution_count": 33,
   "id": "cac0b1e6",
   "metadata": {},
   "outputs": [
    {
     "data": {
      "image/png": "[encoded data removed]",
      "text/plain": [
       "<Figure size 432x288 with 1 Axes>"
      ]
     },
     "metadata": {
      "needs_background": "light"
     },
     "output_type": "display_data"
    }
   ],
   "source": [
    "plt.plot(np.array(rll).reshape((-1, 3))[:, 2], label='Running Loss')\n",
    "plt.legend()\n",
    "plt.show()"
   ]
  },
  {
   "cell_type": "code",
   "execution_count": 34,
   "id": "26c135cb",
   "metadata": {},
   "outputs": [
    {
     "data": {
      "image/png": "[encoded data removed]",
      "text/plain": [
       "<Figure size 432x288 with 1 Axes>"
      ]
     },
     "metadata": {
      "needs_background": "light"
     },
     "output_type": "display_data"
    }
   ],
   "source": [
    "plt.plot(total_loss, label='Total loss')\n",
    "plt.legend()\n",
    "plt.show()"
   ]
  },
  {
   "cell_type": "code",
   "execution_count": 35,
   "id": "a60ec4b5",
   "metadata": {},
   "outputs": [],
   "source": [
    "torch.save(model.state_dict(), './modelstate_gru_cnn_v1')"
   ]
  },
  {
   "cell_type": "code",
   "execution_count": 36,
   "id": "5c0ed9c3",
   "metadata": {},
   "outputs": [
    {
     "data": {
      "text/plain": [
       "EncoderDecoder1DCNN_GRU(\n",
       "  (encoder): Encoder1DCNN_GRU(\n",
       "    (activation): SELU()\n",
       "    (cnn1): Conv1d(2, 5, kernel_size=(5,), stride=(1,))\n",
       "    (lstm1): GRU(5, 5, batch_first=True)\n",
       "    (cnn2): Conv1d(5, 10, kernel_size=(5,), stride=(1,))\n",
       "    (lstm2): GRU(10, 10, batch_first=True)\n",
       "    (cnn3): Conv1d(10, 20, kernel_size=(5,), stride=(1,))\n",
       "    (lstm3): GRU(20, 20, batch_first=True)\n",
       "    (cnn4): Conv1d(20, 20, kernel_size=(5,), stride=(1,))\n",
       "    (lstm4): GRU(20, 20, batch_first=True)\n",
       "    (cnn5): Conv1d(20, 20, kernel_size=(5,), stride=(1,))\n",
       "    (lstm5): GRU(20, 20, batch_first=True)\n",
       "    (conv_last): Conv1d(20, 10, kernel_size=(5,), stride=(1,))\n",
       "  )\n",
       "  (decoder): Decoder1DCNN_GRU(\n",
       "    (activation): SELU()\n",
       "    (cnn1): ConvTranspose1d(10, 20, kernel_size=(5,), stride=(1,))\n",
       "    (lstm1): GRU(20, 5, batch_first=True)\n",
       "    (cnn2): ConvTranspose1d(5, 10, kernel_size=(5,), stride=(1,))\n",
       "    (lstm2): GRU(10, 10, batch_first=True)\n",
       "    (cnn3): ConvTranspose1d(10, 5, kernel_size=(5,), stride=(1,))\n",
       "    (lstm3): GRU(5, 5, batch_first=True)\n",
       "    (cnn4): ConvTranspose1d(5, 5, kernel_size=(5,), stride=(1,))\n",
       "    (lstm4): GRU(5, 5, batch_first=True)\n",
       "    (cnn5): ConvTranspose1d(5, 5, kernel_size=(5,), stride=(1,))\n",
       "    (lstm5): GRU(5, 5, batch_first=True)\n",
       "    (conv_last): Conv1d(5, 2, kernel_size=(3,), stride=(1,))\n",
       "  )\n",
       ")"
      ]
     },
     "execution_count": 36,
     "metadata": {},
     "output_type": "execute_result"
    }
   ],
   "source": [
    "model.eval()"
   ]
  },
  {
   "cell_type": "code",
   "execution_count": 37,
   "id": "c84ae463",
   "metadata": {},
   "outputs": [
    {
     "data": {
      "image/png": "[encoded data removed]",
      "text/plain": [
       "<Figure size 432x288 with 1 Axes>"
      ]
     },
     "metadata": {
      "needs_background": "light"
     },
     "output_type": "display_data"
    }
   ],
   "source": [
    "sample_data = dataset[11]\n",
    "# sample_data[0, :] = torch.from_numpy(np.convolve(sample_data[0, :].numpy(), np.ones(5), mode='same'))\n",
    "# sample_data[1, :] = torch.from_numpy(np.convolve(sample_data[1, :].numpy(), np.ones(5), mode='same'))\n",
    "# sample_data = sample_data[:, 4:-5]\n",
    "plt.plot(sample_data[0, :], label='GR')\n",
    "plt.plot(sample_data[1, :], label='DTC')\n",
    "plt.legend()\n",
    "plt.show()"
   ]
  },
  {
   "cell_type": "code",
   "execution_count": 38,
   "id": "12ce06fe",
   "metadata": {},
   "outputs": [],
   "source": [
    "sample_data_ = sample_data.unsqueeze(dim=0).to(device)\n",
    "reconst_data = model(sample_data_)\n",
    "reconst_data = reconst_data.detach().cpu().squeeze(dim=0).numpy()"
   ]
  },
  {
   "cell_type": "code",
   "execution_count": 39,
   "id": "8c69e09a",
   "metadata": {},
   "outputs": [
    {
     "data": {
      "image/png": "[encoded data removed]",
      "text/plain": [
       "<Figure size 432x288 with 1 Axes>"
      ]
     },
     "metadata": {
      "needs_background": "light"
     },
     "output_type": "display_data"
    }
   ],
   "source": [
    "plt.plot(reconst_data[1, :-2], label='GR_Reconst')\n",
    "plt.plot(reconst_data[0, :-2], label='DTC_Reconst')\n",
    "plt.legend()\n",
    "plt.show()"
   ]
  },
  {
   "cell_type": "code",
   "execution_count": null,
   "id": "69873469",
   "metadata": {},
   "outputs": [],
   "source": []
  }
 ],
 "metadata": {
  "kernelspec": {
   "display_name": "Python 3 (ipykernel)",
   "language": "python",
   "name": "python3"
  },
  "language_info": {
   "codemirror_mode": {
    "name": "ipython",
    "version": 3
   },
   "file_extension": ".py",
   "mimetype": "text/x-python",
   "name": "python",
   "nbconvert_exporter": "python",
   "pygments_lexer": "ipython3",
   "version": "3.10.4"
  }
 },
 "nbformat": 4,
 "nbformat_minor": 5
}

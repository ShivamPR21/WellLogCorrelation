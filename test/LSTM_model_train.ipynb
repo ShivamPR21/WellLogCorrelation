{
 "cells": [
  {
   "cell_type": "code",
   "execution_count": 1,
   "id": "d3142275",
   "metadata": {},
   "outputs": [],
   "source": [
    "%load_ext autoreload\n",
    "%autoreload 2"
   ]
  },
  {
   "cell_type": "code",
   "execution_count": 24,
   "id": "9672052c",
   "metadata": {},
   "outputs": [],
   "source": [
    "import argparse\n",
    "import os\n",
    "from ast import arg\n",
    "\n",
    "import torch\n",
    "import torch.nn as nn\n",
    "import torch.optim as optim\n",
    "from torch.utils.data import DataLoader\n",
    "\n",
    "from wlcorr import EncoderDecoderStaticDataset, EncoderDecoder1DCNN_LSTM\n",
    "\n",
    "from matplotlib import pyplot as plt\n",
    "import numpy as np\n",
    "\n",
    "from torchinfo import summary"
   ]
  },
  {
   "cell_type": "code",
   "execution_count": 3,
   "id": "7a04d0c6",
   "metadata": {},
   "outputs": [],
   "source": [
    "class VRLoss(nn.Module):\n",
    "\n",
    "    def __init__(self, w_cos1 = 1., w_cos2 = 1., w_l2 = 2.) -> None:\n",
    "        super().__init__()\n",
    "        self.cosinesim1 = nn.CosineSimilarity(dim=1, eps=1e-6)\n",
    "        self.cosinesim2 = nn.CosineSimilarity(dim=2, eps=1e-6)\n",
    "        self.l2 = nn.L1Loss()\n",
    "        s = w_cos1 + w_cos2 + w_l2\n",
    "        self.w_cos1, self.w_cos2, self.w_l2 = w_cos1/s, w_cos2/s, w_l2/s\n",
    "\n",
    "    def forward(self, output:torch.Tensor, target:torch.Tensor):\n",
    "        b, n, _ = output.shape\n",
    "        sim1 = -self.cosinesim1(output, target)\n",
    "        sim2 = -self.cosinesim2(output, target)\n",
    "        l2 = self.l2(output, target)/100.\n",
    "\n",
    "        l = self.w_cos1*(sim1.exp().mean()-1e-1) + self.w_cos2*(sim2.exp().mean()-1e-1) - self.w_l2*l2.log()\n",
    "        \n",
    "        return l"
   ]
  },
  {
   "cell_type": "code",
   "execution_count": 44,
   "id": "22d5a399",
   "metadata": {},
   "outputs": [],
   "source": [
    "dataset = EncoderDecoderStaticDataset('/home/shivampr21/DKLabs/OilGasProject/WellLogCorrelation/data', patch_size=50-2, sig_smoothening=3)\n",
    "dataset.dataset.wells_list = dataset.dataset.wells_list.repeat(5)\n",
    "dataloader = DataLoader(dataset, batch_size = 16, shuffle = True, num_workers = 6)\n",
    "data_len = len(dataloader)\n",
    "log_n = int(data_len//2)"
   ]
  },
  {
   "cell_type": "code",
   "execution_count": 45,
   "id": "e6c5acf5",
   "metadata": {},
   "outputs": [
    {
     "data": {
      "image/png": "[encoded data removed]",
      "text/plain": [
       "<Figure size 432x288 with 1 Axes>"
      ]
     },
     "metadata": {
      "needs_background": "light"
     },
     "output_type": "display_data"
    }
   ],
   "source": [
    "sample_data = dataset[2]\n",
    "plt.plot(sample_data[0, :], label='GR')\n",
    "plt.plot(sample_data[1, :], label='DTC')\n",
    "plt.legend()\n",
    "plt.show()"
   ]
  },
  {
   "cell_type": "code",
   "execution_count": 46,
   "id": "1913295f",
   "metadata": {},
   "outputs": [],
   "source": [
    "device = torch.device('cuda' if torch.cuda.is_available() else 'cpu')"
   ]
  },
  {
   "cell_type": "code",
   "execution_count": 53,
   "id": "b79c94dd",
   "metadata": {},
   "outputs": [
    {
     "name": "stdout",
     "output_type": "stream",
     "text": [
      "[26, 10]\n"
     ]
    },
    {
     "data": {
      "text/plain": [
       "EncoderDecoder1DCNN_LSTM(\n",
       "  (encoder): Encoder1DCNN_LSTM(\n",
       "    (activation): SELU()\n",
       "    (cnn1): Conv1d(1, 5, kernel_size=(5,), stride=(1,))\n",
       "    (lstm1): LSTM(5, 5, batch_first=True)\n",
       "    (cnn2): Conv1d(5, 10, kernel_size=(5,), stride=(1,))\n",
       "    (lstm2): LSTM(10, 10, batch_first=True)\n",
       "    (cnn3): Conv1d(10, 20, kernel_size=(5,), stride=(1,))\n",
       "    (lstm3): LSTM(20, 20, batch_first=True)\n",
       "    (cnn4): Conv1d(20, 20, kernel_size=(5,), stride=(1,))\n",
       "    (lstm4): LSTM(20, 20, batch_first=True)\n",
       "    (cnn5): Conv1d(20, 20, kernel_size=(5,), stride=(1,))\n",
       "    (lstm5): LSTM(20, 20, batch_first=True)\n",
       "    (conv_last): Conv1d(20, 10, kernel_size=(5,), stride=(1,))\n",
       "  )\n",
       "  (decoder): Decoder1DCNN_LSTM(\n",
       "    (activation): SELU()\n",
       "    (cnn1): ConvTranspose1d(10, 20, kernel_size=(5,), stride=(1,))\n",
       "    (lstm1): LSTM(20, 5, batch_first=True)\n",
       "    (cnn2): ConvTranspose1d(5, 10, kernel_size=(5,), stride=(1,))\n",
       "    (lstm2): LSTM(10, 10, batch_first=True)\n",
       "    (cnn3): ConvTranspose1d(10, 5, kernel_size=(5,), stride=(1,))\n",
       "    (lstm3): LSTM(5, 5, batch_first=True)\n",
       "    (cnn4): ConvTranspose1d(5, 5, kernel_size=(5,), stride=(1,))\n",
       "    (lstm4): LSTM(5, 5, batch_first=True)\n",
       "    (cnn5): ConvTranspose1d(5, 5, kernel_size=(5,), stride=(1,))\n",
       "    (lstm5): LSTM(5, 5, batch_first=True)\n",
       "    (conv_last): Conv1d(5, 1, kernel_size=(3,), stride=(1,))\n",
       "  )\n",
       ")"
      ]
     },
     "execution_count": 53,
     "metadata": {},
     "output_type": "execute_result"
    }
   ],
   "source": [
    "model = EncoderDecoder1DCNN_LSTM(1, in_size=50, activation=nn.SELU, norm_layer=None)\n",
    "model.to(device)\n",
    "model.train()"
   ]
  },
  {
   "cell_type": "code",
   "execution_count": 54,
   "id": "c4d01423",
   "metadata": {},
   "outputs": [
    {
     "data": {
      "text/plain": [
       "==========================================================================================\n",
       "Layer (type:depth-idx)                   Output Shape              Param #\n",
       "==========================================================================================\n",
       "EncoderDecoder1DCNN_LSTM                 --                        --\n",
       "├─Encoder1DCNN_LSTM: 1-1                 [22, 10, 76]              --\n",
       "│    └─Conv1d: 2-1                       [22, 5, 96]               30\n",
       "│    └─SELU: 2-2                         [22, 96, 5]               --\n",
       "│    └─LSTM: 2-3                         [22, 96, 5]               240\n",
       "│    └─Conv1d: 2-4                       [22, 10, 92]              260\n",
       "│    └─SELU: 2-5                         [22, 92, 10]              --\n",
       "│    └─LSTM: 2-6                         [22, 92, 10]              880\n",
       "│    └─Conv1d: 2-7                       [22, 20, 88]              1,020\n",
       "│    └─SELU: 2-8                         [22, 88, 20]              --\n",
       "│    └─LSTM: 2-9                         [22, 88, 20]              3,360\n",
       "│    └─Conv1d: 2-10                      [22, 20, 84]              2,020\n",
       "│    └─SELU: 2-11                        [22, 84, 20]              --\n",
       "│    └─LSTM: 2-12                        [22, 84, 20]              3,360\n",
       "│    └─Conv1d: 2-13                      [22, 20, 80]              2,020\n",
       "│    └─SELU: 2-14                        [22, 80, 20]              --\n",
       "│    └─LSTM: 2-15                        [22, 80, 20]              3,360\n",
       "│    └─Conv1d: 2-16                      [22, 10, 76]              1,010\n",
       "├─Decoder1DCNN_LSTM: 1-2                 [22, 1, 94]               --\n",
       "│    └─ConvTranspose1d: 2-17             [22, 20, 80]              1,020\n",
       "│    └─SELU: 2-18                        [22, 80, 20]              --\n",
       "│    └─LSTM: 2-19                        [22, 80, 5]               540\n",
       "│    └─ConvTranspose1d: 2-20             [22, 10, 84]              260\n",
       "│    └─SELU: 2-21                        [22, 84, 10]              --\n",
       "│    └─LSTM: 2-22                        [22, 84, 10]              880\n",
       "│    └─ConvTranspose1d: 2-23             [22, 5, 88]               255\n",
       "│    └─SELU: 2-24                        [22, 88, 5]               --\n",
       "│    └─LSTM: 2-25                        [22, 88, 5]               240\n",
       "│    └─ConvTranspose1d: 2-26             [22, 5, 92]               130\n",
       "│    └─SELU: 2-27                        [22, 92, 5]               --\n",
       "│    └─LSTM: 2-28                        [22, 92, 5]               240\n",
       "│    └─ConvTranspose1d: 2-29             [22, 5, 96]               130\n",
       "│    └─SELU: 2-30                        [22, 96, 5]               --\n",
       "│    └─LSTM: 2-31                        [22, 96, 5]               240\n",
       "│    └─Conv1d: 2-32                      [22, 1, 94]               16\n",
       "==========================================================================================\n",
       "Total params: 21,511\n",
       "Trainable params: 21,511\n",
       "Non-trainable params: 0\n",
       "Total mult-adds (M): 39.83\n",
       "==========================================================================================\n",
       "Input size (MB): 0.01\n",
       "Forward/backward pass size (MB): 3.55\n",
       "Params size (MB): 0.09\n",
       "Estimated Total Size (MB): 3.65\n",
       "=========================================================================================="
      ]
     },
     "execution_count": 54,
     "metadata": {},
     "output_type": "execute_result"
    }
   ],
   "source": [
    "summary(model, (11*2, 1, 100))"
   ]
  },
  {
   "cell_type": "code",
   "execution_count": 55,
   "id": "6f58cf68",
   "metadata": {},
   "outputs": [],
   "source": [
    "criterion =  VRLoss(w_cos1=0.0, w_cos2=0.5, w_l2=2.0) # Loss function\n",
    "params_list = model.parameters() # model parameters\n",
    "optimizer = optim.AdamW(params_list, lr = 0.00001, weight_decay=0.000001)"
   ]
  },
  {
   "cell_type": "code",
   "execution_count": 56,
   "id": "8230fda9",
   "metadata": {},
   "outputs": [],
   "source": [
    "def compute_loss(dl, model, crt):\n",
    "    total_loss = 0.\n",
    "    cnt = 0\n",
    "    # since we're not training, we don't need to calculate the gradients for our outputs\n",
    "    with torch.no_grad():\n",
    "        for data in dl:\n",
    "            data = data.to(device)\n",
    "            data_ = torch.cat(data.split(1, dim=1), dim=0)\n",
    "            \n",
    "            # calculate outputs by running images through the network\n",
    "            output = model(data_)\n",
    "            output = torch.cat(output.split(output.shape[0]//2, dim=0), dim=1)\n",
    "\n",
    "            loss = crt(output, data)\n",
    "            \n",
    "            # print(predicted, labels)\n",
    "            total_loss += loss.item()*data.size(0)\n",
    "            cnt += data.size(0)\n",
    "    return total_loss/cnt"
   ]
  },
  {
   "cell_type": "code",
   "execution_count": 57,
   "id": "48fbb166",
   "metadata": {},
   "outputs": [],
   "source": [
    "rll = []\n",
    "total_loss = []"
   ]
  },
  {
   "cell_type": "code",
   "execution_count": 58,
   "id": "c201e010",
   "metadata": {
    "scrolled": true
   },
   "outputs": [
    {
     "name": "stdout",
     "output_type": "stream",
     "text": [
      "Total loss : 4.203070570498097\n",
      "Epoch : 0, Iteration : 14,Running loss : 4.2031294504801435\n",
      "Epoch : 0, Iteration : 29,Running loss : 4.205199940999349\n",
      "Total loss : 4.203352223610391\n",
      "Epoch : 1, Iteration : 14,Running loss : 4.20461139678955\n",
      "Epoch : 1, Iteration : 29,Running loss : 4.207149950663249\n",
      "Total loss : 4.206191189435064\n",
      "Epoch : 2, Iteration : 14,Running loss : 4.209043693542481\n",
      "Epoch : 2, Iteration : 29,Running loss : 4.202553844451904\n",
      "Total loss : 4.204930225683718\n",
      "Epoch : 3, Iteration : 14,Running loss : 4.205096340179443\n",
      "Epoch : 3, Iteration : 29,Running loss : 4.20696907043457\n",
      "Total loss : 4.203599850012331\n",
      "Epoch : 4, Iteration : 14,Running loss : 4.20628293355306\n",
      "Epoch : 4, Iteration : 29,Running loss : 4.203460915883382\n",
      "Total loss : 4.204656964905408\n",
      "Epoch : 5, Iteration : 14,Running loss : 4.2037454605102536\n",
      "Epoch : 5, Iteration : 29,Running loss : 4.20364039738973\n",
      "Total loss : 4.2043702670506065\n",
      "Epoch : 6, Iteration : 14,Running loss : 4.202968056996664\n",
      "Epoch : 6, Iteration : 29,Running loss : 4.20916124979655\n",
      "Total loss : 4.20375611441476\n",
      "Epoch : 7, Iteration : 14,Running loss : 4.20288413365682\n",
      "Epoch : 7, Iteration : 29,Running loss : 4.202064927419027\n",
      "Total loss : 4.204312752704231\n",
      "Epoch : 8, Iteration : 14,Running loss : 4.204034487406413\n",
      "Epoch : 8, Iteration : 29,Running loss : 4.20286340713501\n",
      "Total loss : 4.2040832636307695\n",
      "Epoch : 9, Iteration : 14,Running loss : 4.204764334360759\n",
      "Epoch : 9, Iteration : 29,Running loss : 4.204092947642009\n",
      "Total loss : 4.202879769461496\n",
      "Epoch : 10, Iteration : 14,Running loss : 4.202722708384196\n",
      "Epoch : 10, Iteration : 29,Running loss : 4.205253092447917\n",
      "Total loss : 4.202100640900281\n",
      "Epoch : 11, Iteration : 14,Running loss : 4.206511847178141\n",
      "Epoch : 11, Iteration : 29,Running loss : 4.2044809023539225\n",
      "Total loss : 4.204444501837906\n",
      "Epoch : 12, Iteration : 14,Running loss : 4.2077287038167315\n",
      "Epoch : 12, Iteration : 29,Running loss : 4.2018563906351725\n",
      "Total loss : 4.207228096164003\n",
      "Epoch : 13, Iteration : 14,Running loss : 4.204662068684896\n",
      "Epoch : 13, Iteration : 29,Running loss : 4.202892430623373\n",
      "Total loss : 4.20357994741323\n",
      "Epoch : 14, Iteration : 14,Running loss : 4.203266398111979\n",
      "Epoch : 14, Iteration : 29,Running loss : 4.20316162109375\n",
      "Total loss : 4.202918443874437\n",
      "Epoch : 15, Iteration : 14,Running loss : 4.200171979268392\n",
      "Epoch : 15, Iteration : 29,Running loss : 4.203782876332601\n",
      "Total loss : 4.205772154671806\n",
      "Epoch : 16, Iteration : 14,Running loss : 4.201295375823975\n",
      "Epoch : 16, Iteration : 29,Running loss : 4.200564130147298\n",
      "Total loss : 4.201972947801862\n",
      "Epoch : 17, Iteration : 14,Running loss : 4.203210798899333\n",
      "Epoch : 17, Iteration : 29,Running loss : 4.200401719411214\n",
      "Total loss : 4.20237506944306\n",
      "Epoch : 18, Iteration : 14,Running loss : 4.202026112874349\n",
      "Epoch : 18, Iteration : 29,Running loss : 4.20693744023641\n",
      "Total loss : 4.202245848519461\n",
      "Epoch : 19, Iteration : 14,Running loss : 4.203413995107015\n",
      "Epoch : 19, Iteration : 29,Running loss : 4.202253214518229\n",
      "Total loss : 4.203408186776297\n",
      "Epoch : 20, Iteration : 14,Running loss : 4.2020315806070965\n",
      "Epoch : 20, Iteration : 29,Running loss : 4.202591101328532\n",
      "Total loss : 4.200033141155632\n",
      "Epoch : 21, Iteration : 14,Running loss : 4.201122283935547\n",
      "Epoch : 21, Iteration : 29,Running loss : 4.201921494801839\n",
      "Total loss : 4.199991058816715\n",
      "Epoch : 22, Iteration : 14,Running loss : 4.20155684153239\n",
      "Epoch : 22, Iteration : 29,Running loss : 4.201306470235189\n",
      "Total loss : 4.202190763123181\n",
      "Epoch : 23, Iteration : 14,Running loss : 4.203357156117757\n",
      "Epoch : 23, Iteration : 29,Running loss : 4.197533035278321\n",
      "Total loss : 4.200448616183534\n",
      "Epoch : 24, Iteration : 14,Running loss : 4.201765473683675\n",
      "Epoch : 24, Iteration : 29,Running loss : 4.201331011454264\n",
      "Total loss : 4.19709523259377\n",
      "Epoch : 25, Iteration : 14,Running loss : 4.199441750844319\n",
      "Epoch : 25, Iteration : 29,Running loss : 4.199006875356038\n",
      "Total loss : 4.197970456493144\n",
      "Epoch : 26, Iteration : 14,Running loss : 4.196195157368978\n",
      "Epoch : 26, Iteration : 29,Running loss : 4.196694914499918\n",
      "Total loss : 4.19782048439493\n",
      "Epoch : 27, Iteration : 14,Running loss : 4.195876439412435\n",
      "Epoch : 27, Iteration : 29,Running loss : 4.192044607798258\n",
      "Total loss : 4.191763002045301\n",
      "Epoch : 28, Iteration : 14,Running loss : 4.190502198537191\n",
      "Epoch : 28, Iteration : 29,Running loss : 4.191751003265381\n",
      "Total loss : 4.191213183500329\n",
      "Epoch : 29, Iteration : 14,Running loss : 4.187101777394613\n",
      "Epoch : 29, Iteration : 29,Running loss : 4.188949743906657\n",
      "Total loss : 4.187757157306282\n",
      "Epoch : 30, Iteration : 14,Running loss : 4.183813794453939\n",
      "Epoch : 30, Iteration : 29,Running loss : 4.184040292104085\n",
      "Total loss : 4.180012370129021\n",
      "Epoch : 31, Iteration : 14,Running loss : 4.178527863820394\n",
      "Epoch : 31, Iteration : 29,Running loss : 4.170348103841146\n",
      "Total loss : 4.171134623702692\n",
      "Epoch : 32, Iteration : 14,Running loss : 4.171391359965006\n",
      "Epoch : 32, Iteration : 29,Running loss : 4.162378152211507\n",
      "Total loss : 4.163288640002815\n",
      "Epoch : 33, Iteration : 14,Running loss : 4.158870283762614\n",
      "Epoch : 33, Iteration : 29,Running loss : 4.156697177886963\n",
      "Total loss : 4.156149044815375\n",
      "Epoch : 34, Iteration : 14,Running loss : 4.154603640238444\n",
      "Epoch : 34, Iteration : 29,Running loss : 4.151677099863688\n",
      "Total loss : 4.153511607890226\n",
      "Epoch : 35, Iteration : 14,Running loss : 4.151559511820476\n",
      "Epoch : 35, Iteration : 29,Running loss : 4.151496124267578\n",
      "Total loss : 4.152699379045136\n",
      "Epoch : 36, Iteration : 14,Running loss : 4.153974501291911\n",
      "Epoch : 36, Iteration : 29,Running loss : 4.155508613586425\n",
      "Total loss : 4.153015278796761\n",
      "Epoch : 37, Iteration : 14,Running loss : 4.148954772949219\n",
      "Epoch : 37, Iteration : 29,Running loss : 4.152937698364258\n",
      "Total loss : 4.152893642503388\n",
      "Epoch : 38, Iteration : 14,Running loss : 4.157819716135661\n",
      "Epoch : 38, Iteration : 29,Running loss : 4.14881706237793\n",
      "Total loss : 4.153129890986851\n",
      "Epoch : 39, Iteration : 14,Running loss : 4.155826346079508\n",
      "Epoch : 39, Iteration : 29,Running loss : 4.150644143422444\n",
      "Total loss : 4.154041769066636\n",
      "Epoch : 40, Iteration : 14,Running loss : 4.147661336263021\n",
      "Epoch : 40, Iteration : 29,Running loss : 4.153790314992269\n",
      "Total loss : 4.153115377620775\n",
      "Epoch : 41, Iteration : 14,Running loss : 4.152581087748209\n",
      "Epoch : 41, Iteration : 29,Running loss : 4.149909369150797\n",
      "Total loss : 4.152138019094662\n",
      "Epoch : 42, Iteration : 14,Running loss : 4.154908402760824\n",
      "Epoch : 42, Iteration : 29,Running loss : 4.147171688079834\n",
      "Total loss : 4.153560543060303\n",
      "Epoch : 43, Iteration : 14,Running loss : 4.150940195719401\n",
      "Epoch : 43, Iteration : 29,Running loss : 4.155002053578695\n",
      "Total loss : 4.149731867653983\n",
      "Epoch : 44, Iteration : 14,Running loss : 4.153838888804118\n",
      "Epoch : 44, Iteration : 29,Running loss : 4.153683439890544\n",
      "Total loss : 4.150440093449184\n",
      "Epoch : 45, Iteration : 14,Running loss : 4.151996262868246\n",
      "Epoch : 45, Iteration : 29,Running loss : 4.149055131276449\n",
      "Total loss : 4.151866529425797\n",
      "Epoch : 46, Iteration : 14,Running loss : 4.154013442993164\n",
      "Epoch : 46, Iteration : 29,Running loss : 4.158280086517334\n",
      "Total loss : 4.150319151975671\n",
      "Epoch : 47, Iteration : 14,Running loss : 4.154402796427409\n",
      "Epoch : 47, Iteration : 29,Running loss : 4.149684047698974\n",
      "Total loss : 4.150978185692612\n",
      "Epoch : 48, Iteration : 14,Running loss : 4.151892852783203\n",
      "Epoch : 48, Iteration : 29,Running loss : 4.155922190348307\n",
      "Total loss : 4.1508748618923885\n",
      "Epoch : 49, Iteration : 14,Running loss : 4.15582685470581\n",
      "Epoch : 49, Iteration : 29,Running loss : 4.151568222045898\n",
      "Total loss : 4.152287502678073\n",
      "Epoch : 50, Iteration : 14,Running loss : 4.149493185679118\n",
      "Epoch : 50, Iteration : 29,Running loss : 4.150361410776774\n",
      "Total loss : 4.151356272794763\n",
      "Epoch : 51, Iteration : 14,Running loss : 4.151004155476888\n",
      "Epoch : 51, Iteration : 29,Running loss : 4.152120876312256\n",
      "Total loss : 4.149795540011659\n",
      "Epoch : 52, Iteration : 14,Running loss : 4.151005490620931\n",
      "Epoch : 52, Iteration : 29,Running loss : 4.150704065958659\n",
      "Total loss : 4.155203295727166\n",
      "Epoch : 53, Iteration : 14,Running loss : 4.152516174316406\n",
      "Epoch : 53, Iteration : 29,Running loss : 4.1505685170491535\n",
      "Total loss : 4.149749866796999\n",
      "Epoch : 54, Iteration : 14,Running loss : 4.152434412638346\n"
     ]
    },
    {
     "name": "stdout",
     "output_type": "stream",
     "text": [
      "Epoch : 54, Iteration : 29,Running loss : 4.151317850748698\n",
      "Total loss : 4.152006334188033\n",
      "Epoch : 55, Iteration : 14,Running loss : 4.151552136739095\n",
      "Epoch : 55, Iteration : 29,Running loss : 4.15181827545166\n",
      "Total loss : 4.152086164513412\n",
      "Epoch : 56, Iteration : 14,Running loss : 4.151349067687988\n",
      "Epoch : 56, Iteration : 29,Running loss : 4.150061957041422\n",
      "Total loss : 4.151034442745909\n",
      "Epoch : 57, Iteration : 14,Running loss : 4.151400597890218\n",
      "Epoch : 57, Iteration : 29,Running loss : 4.154949951171875\n",
      "Total loss : 4.151391893503617\n",
      "Epoch : 58, Iteration : 14,Running loss : 4.155168533325195\n",
      "Epoch : 58, Iteration : 29,Running loss : 4.150533072153727\n",
      "Total loss : 4.154498771745331\n",
      "Epoch : 59, Iteration : 14,Running loss : 4.150390529632569\n",
      "Epoch : 59, Iteration : 29,Running loss : 4.148028564453125\n",
      "Total loss : 4.150138888067128\n",
      "Epoch : 60, Iteration : 14,Running loss : 4.1540860811869305\n",
      "Epoch : 60, Iteration : 29,Running loss : 4.152861817677816\n",
      "Total loss : 4.154309060622235\n",
      "Epoch : 61, Iteration : 14,Running loss : 4.155440330505371\n",
      "Epoch : 61, Iteration : 29,Running loss : 4.149022992451986\n",
      "Total loss : 4.150010023311693\n",
      "Epoch : 62, Iteration : 14,Running loss : 4.15184129079183\n",
      "Epoch : 62, Iteration : 29,Running loss : 4.153345425923665\n",
      "Total loss : 4.151506414218825\n",
      "Epoch : 63, Iteration : 14,Running loss : 4.148808638254802\n",
      "Epoch : 63, Iteration : 29,Running loss : 4.155501079559326\n",
      "Total loss : 4.1524326558015785\n",
      "Epoch : 64, Iteration : 14,Running loss : 4.156679089864095\n",
      "Epoch : 64, Iteration : 29,Running loss : 4.146841812133789\n",
      "Total loss : 4.151851772775456\n",
      "Epoch : 65, Iteration : 14,Running loss : 4.149300066630046\n",
      "Epoch : 65, Iteration : 29,Running loss : 4.152535915374756\n",
      "Total loss : 4.151979551509935\n",
      "Epoch : 66, Iteration : 14,Running loss : 4.151264381408692\n",
      "Epoch : 66, Iteration : 29,Running loss : 4.154645506540934\n",
      "Total loss : 4.1528637263239645\n",
      "Epoch : 67, Iteration : 14,Running loss : 4.155902163187663\n",
      "Epoch : 67, Iteration : 29,Running loss : 4.148798910776774\n",
      "Total loss : 4.150402022381218\n",
      "Epoch : 68, Iteration : 14,Running loss : 4.149349625905355\n",
      "Epoch : 68, Iteration : 29,Running loss : 4.153489017486573\n",
      "Total loss : 4.151708309017882\n",
      "Epoch : 69, Iteration : 14,Running loss : 4.151980781555176\n",
      "Epoch : 69, Iteration : 29,Running loss : 4.157652950286865\n",
      "Total loss : 4.151605678091244\n",
      "Epoch : 70, Iteration : 14,Running loss : 4.150134595235189\n",
      "Epoch : 70, Iteration : 29,Running loss : 4.153033638000489\n",
      "Total loss : 4.15142892720748\n",
      "Epoch : 71, Iteration : 14,Running loss : 4.151945813496908\n",
      "Epoch : 71, Iteration : 29,Running loss : 4.155770460764567\n",
      "Total loss : 4.154338363725312\n",
      "Epoch : 72, Iteration : 14,Running loss : 4.151129372914633\n",
      "Epoch : 72, Iteration : 29,Running loss : 4.152065245310466\n"
     ]
    },
    {
     "ename": "KeyboardInterrupt",
     "evalue": "",
     "output_type": "error",
     "traceback": [
      "\u001b[0;31m---------------------------------------------------------------------------\u001b[0m",
      "\u001b[0;31mKeyboardInterrupt\u001b[0m                         Traceback (most recent call last)",
      "Input \u001b[0;32mIn [58]\u001b[0m, in \u001b[0;36m<cell line: 4>\u001b[0;34m()\u001b[0m\n\u001b[1;32m     24\u001b[0m         \u001b[38;5;28mprint\u001b[39m(\u001b[38;5;124mf\u001b[39m\u001b[38;5;124m'\u001b[39m\u001b[38;5;124mEpoch : \u001b[39m\u001b[38;5;132;01m{\u001b[39;00mepoch\u001b[38;5;132;01m}\u001b[39;00m\u001b[38;5;124m, Iteration : \u001b[39m\u001b[38;5;132;01m{\u001b[39;00mi\u001b[38;5;132;01m}\u001b[39;00m\u001b[38;5;124m,Running loss : \u001b[39m\u001b[38;5;132;01m{\u001b[39;00mrunning_loss\u001b[38;5;241m/\u001b[39mlog_n\u001b[38;5;132;01m}\u001b[39;00m\u001b[38;5;124m'\u001b[39m)\n\u001b[1;32m     25\u001b[0m         running_loss \u001b[38;5;241m=\u001b[39m \u001b[38;5;241m0\u001b[39m\n\u001b[0;32m---> 26\u001b[0m total_loss \u001b[38;5;241m+\u001b[39m\u001b[38;5;241m=\u001b[39m [\u001b[43mcompute_loss\u001b[49m\u001b[43m(\u001b[49m\u001b[43mdataloader\u001b[49m\u001b[43m,\u001b[49m\u001b[43m \u001b[49m\u001b[43mmodel\u001b[49m\u001b[43m,\u001b[49m\u001b[43m \u001b[49m\u001b[43mcriterion\u001b[49m\u001b[43m)\u001b[49m]\n\u001b[1;32m     27\u001b[0m \u001b[38;5;28mprint\u001b[39m(\u001b[38;5;124mf\u001b[39m\u001b[38;5;124m'\u001b[39m\u001b[38;5;124mTotal loss : \u001b[39m\u001b[38;5;132;01m{\u001b[39;00mtotal_loss[\u001b[38;5;241m-\u001b[39m\u001b[38;5;241m1\u001b[39m]\u001b[38;5;132;01m}\u001b[39;00m\u001b[38;5;124m'\u001b[39m)\n",
      "Input \u001b[0;32mIn [56]\u001b[0m, in \u001b[0;36mcompute_loss\u001b[0;34m(dl, model, crt)\u001b[0m\n\u001b[1;32m      4\u001b[0m \u001b[38;5;66;03m# since we're not training, we don't need to calculate the gradients for our outputs\u001b[39;00m\n\u001b[1;32m      5\u001b[0m \u001b[38;5;28;01mwith\u001b[39;00m torch\u001b[38;5;241m.\u001b[39mno_grad():\n\u001b[0;32m----> 6\u001b[0m     \u001b[38;5;28;01mfor\u001b[39;00m data \u001b[38;5;129;01min\u001b[39;00m dl:\n\u001b[1;32m      7\u001b[0m         data \u001b[38;5;241m=\u001b[39m data\u001b[38;5;241m.\u001b[39mto(device)\n\u001b[1;32m      8\u001b[0m         data_ \u001b[38;5;241m=\u001b[39m torch\u001b[38;5;241m.\u001b[39mcat(data\u001b[38;5;241m.\u001b[39msplit(\u001b[38;5;241m1\u001b[39m, dim\u001b[38;5;241m=\u001b[39m\u001b[38;5;241m1\u001b[39m), dim\u001b[38;5;241m=\u001b[39m\u001b[38;5;241m0\u001b[39m)\n",
      "File \u001b[0;32m~/.venv/clort/lib/python3.10/site-packages/torch/utils/data/dataloader.py:576\u001b[0m, in \u001b[0;36m_BaseDataLoaderIter.__next__\u001b[0;34m(self)\u001b[0m\n\u001b[1;32m    573\u001b[0m \u001b[38;5;28;01mif\u001b[39;00m \u001b[38;5;28mself\u001b[39m\u001b[38;5;241m.\u001b[39m_sampler_iter \u001b[38;5;129;01mis\u001b[39;00m \u001b[38;5;28;01mNone\u001b[39;00m:\n\u001b[1;32m    574\u001b[0m     \u001b[38;5;66;03m# TODO(https://github.com/pytorch/pytorch/issues/76750)\u001b[39;00m\n\u001b[1;32m    575\u001b[0m     \u001b[38;5;28mself\u001b[39m\u001b[38;5;241m.\u001b[39m_reset()  \u001b[38;5;66;03m# type: ignore[call-arg]\u001b[39;00m\n\u001b[0;32m--> 576\u001b[0m data \u001b[38;5;241m=\u001b[39m \u001b[38;5;28;43mself\u001b[39;49m\u001b[38;5;241;43m.\u001b[39;49m\u001b[43m_next_data\u001b[49m\u001b[43m(\u001b[49m\u001b[43m)\u001b[49m\n\u001b[1;32m    577\u001b[0m \u001b[38;5;28mself\u001b[39m\u001b[38;5;241m.\u001b[39m_num_yielded \u001b[38;5;241m+\u001b[39m\u001b[38;5;241m=\u001b[39m \u001b[38;5;241m1\u001b[39m\n\u001b[1;32m    578\u001b[0m \u001b[38;5;28;01mif\u001b[39;00m \u001b[38;5;28mself\u001b[39m\u001b[38;5;241m.\u001b[39m_dataset_kind \u001b[38;5;241m==\u001b[39m _DatasetKind\u001b[38;5;241m.\u001b[39mIterable \u001b[38;5;129;01mand\u001b[39;00m \\\n\u001b[1;32m    579\u001b[0m         \u001b[38;5;28mself\u001b[39m\u001b[38;5;241m.\u001b[39m_IterableDataset_len_called \u001b[38;5;129;01mis\u001b[39;00m \u001b[38;5;129;01mnot\u001b[39;00m \u001b[38;5;28;01mNone\u001b[39;00m \u001b[38;5;129;01mand\u001b[39;00m \\\n\u001b[1;32m    580\u001b[0m         \u001b[38;5;28mself\u001b[39m\u001b[38;5;241m.\u001b[39m_num_yielded \u001b[38;5;241m>\u001b[39m \u001b[38;5;28mself\u001b[39m\u001b[38;5;241m.\u001b[39m_IterableDataset_len_called:\n",
      "File \u001b[0;32m~/.venv/clort/lib/python3.10/site-packages/torch/utils/data/dataloader.py:1254\u001b[0m, in \u001b[0;36m_MultiProcessingDataLoaderIter._next_data\u001b[0;34m(self)\u001b[0m\n\u001b[1;32m   1251\u001b[0m     \u001b[38;5;28;01mreturn\u001b[39;00m \u001b[38;5;28mself\u001b[39m\u001b[38;5;241m.\u001b[39m_process_data(data)\n\u001b[1;32m   1253\u001b[0m \u001b[38;5;28;01massert\u001b[39;00m \u001b[38;5;129;01mnot\u001b[39;00m \u001b[38;5;28mself\u001b[39m\u001b[38;5;241m.\u001b[39m_shutdown \u001b[38;5;129;01mand\u001b[39;00m \u001b[38;5;28mself\u001b[39m\u001b[38;5;241m.\u001b[39m_tasks_outstanding \u001b[38;5;241m>\u001b[39m \u001b[38;5;241m0\u001b[39m\n\u001b[0;32m-> 1254\u001b[0m idx, data \u001b[38;5;241m=\u001b[39m \u001b[38;5;28;43mself\u001b[39;49m\u001b[38;5;241;43m.\u001b[39;49m\u001b[43m_get_data\u001b[49m\u001b[43m(\u001b[49m\u001b[43m)\u001b[49m\n\u001b[1;32m   1255\u001b[0m \u001b[38;5;28mself\u001b[39m\u001b[38;5;241m.\u001b[39m_tasks_outstanding \u001b[38;5;241m-\u001b[39m\u001b[38;5;241m=\u001b[39m \u001b[38;5;241m1\u001b[39m\n\u001b[1;32m   1256\u001b[0m \u001b[38;5;28;01mif\u001b[39;00m \u001b[38;5;28mself\u001b[39m\u001b[38;5;241m.\u001b[39m_dataset_kind \u001b[38;5;241m==\u001b[39m _DatasetKind\u001b[38;5;241m.\u001b[39mIterable:\n\u001b[1;32m   1257\u001b[0m     \u001b[38;5;66;03m# Check for _IterableDatasetStopIteration\u001b[39;00m\n",
      "File \u001b[0;32m~/.venv/clort/lib/python3.10/site-packages/torch/utils/data/dataloader.py:1220\u001b[0m, in \u001b[0;36m_MultiProcessingDataLoaderIter._get_data\u001b[0;34m(self)\u001b[0m\n\u001b[1;32m   1216\u001b[0m     \u001b[38;5;66;03m# In this case, `self._data_queue` is a `queue.Queue`,. But we don't\u001b[39;00m\n\u001b[1;32m   1217\u001b[0m     \u001b[38;5;66;03m# need to call `.task_done()` because we don't use `.join()`.\u001b[39;00m\n\u001b[1;32m   1218\u001b[0m \u001b[38;5;28;01melse\u001b[39;00m:\n\u001b[1;32m   1219\u001b[0m     \u001b[38;5;28;01mwhile\u001b[39;00m \u001b[38;5;28;01mTrue\u001b[39;00m:\n\u001b[0;32m-> 1220\u001b[0m         success, data \u001b[38;5;241m=\u001b[39m \u001b[38;5;28;43mself\u001b[39;49m\u001b[38;5;241;43m.\u001b[39;49m\u001b[43m_try_get_data\u001b[49m\u001b[43m(\u001b[49m\u001b[43m)\u001b[49m\n\u001b[1;32m   1221\u001b[0m         \u001b[38;5;28;01mif\u001b[39;00m success:\n\u001b[1;32m   1222\u001b[0m             \u001b[38;5;28;01mreturn\u001b[39;00m data\n",
      "File \u001b[0;32m~/.venv/clort/lib/python3.10/site-packages/torch/utils/data/dataloader.py:1058\u001b[0m, in \u001b[0;36m_MultiProcessingDataLoaderIter._try_get_data\u001b[0;34m(self, timeout)\u001b[0m\n\u001b[1;32m   1045\u001b[0m \u001b[38;5;28;01mdef\u001b[39;00m \u001b[38;5;21m_try_get_data\u001b[39m(\u001b[38;5;28mself\u001b[39m, timeout\u001b[38;5;241m=\u001b[39m_utils\u001b[38;5;241m.\u001b[39mMP_STATUS_CHECK_INTERVAL):\n\u001b[1;32m   1046\u001b[0m     \u001b[38;5;66;03m# Tries to fetch data from `self._data_queue` once for a given timeout.\u001b[39;00m\n\u001b[1;32m   1047\u001b[0m     \u001b[38;5;66;03m# This can also be used as inner loop of fetching without timeout, with\u001b[39;00m\n\u001b[0;32m   (...)\u001b[0m\n\u001b[1;32m   1055\u001b[0m     \u001b[38;5;66;03m# Returns a 2-tuple:\u001b[39;00m\n\u001b[1;32m   1056\u001b[0m     \u001b[38;5;66;03m#   (bool: whether successfully get data, any: data if successful else None)\u001b[39;00m\n\u001b[1;32m   1057\u001b[0m     \u001b[38;5;28;01mtry\u001b[39;00m:\n\u001b[0;32m-> 1058\u001b[0m         data \u001b[38;5;241m=\u001b[39m \u001b[38;5;28;43mself\u001b[39;49m\u001b[38;5;241;43m.\u001b[39;49m\u001b[43m_data_queue\u001b[49m\u001b[38;5;241;43m.\u001b[39;49m\u001b[43mget\u001b[49m\u001b[43m(\u001b[49m\u001b[43mtimeout\u001b[49m\u001b[38;5;241;43m=\u001b[39;49m\u001b[43mtimeout\u001b[49m\u001b[43m)\u001b[49m\n\u001b[1;32m   1059\u001b[0m         \u001b[38;5;28;01mreturn\u001b[39;00m (\u001b[38;5;28;01mTrue\u001b[39;00m, data)\n\u001b[1;32m   1060\u001b[0m     \u001b[38;5;28;01mexcept\u001b[39;00m \u001b[38;5;167;01mException\u001b[39;00m \u001b[38;5;28;01mas\u001b[39;00m e:\n\u001b[1;32m   1061\u001b[0m         \u001b[38;5;66;03m# At timeout and error, we manually check whether any worker has\u001b[39;00m\n\u001b[1;32m   1062\u001b[0m         \u001b[38;5;66;03m# failed. Note that this is the only mechanism for Windows to detect\u001b[39;00m\n\u001b[1;32m   1063\u001b[0m         \u001b[38;5;66;03m# worker failures.\u001b[39;00m\n",
      "File \u001b[0;32m/usr/lib/python3.10/multiprocessing/queues.py:113\u001b[0m, in \u001b[0;36mQueue.get\u001b[0;34m(self, block, timeout)\u001b[0m\n\u001b[1;32m    111\u001b[0m \u001b[38;5;28;01mif\u001b[39;00m block:\n\u001b[1;32m    112\u001b[0m     timeout \u001b[38;5;241m=\u001b[39m deadline \u001b[38;5;241m-\u001b[39m time\u001b[38;5;241m.\u001b[39mmonotonic()\n\u001b[0;32m--> 113\u001b[0m     \u001b[38;5;28;01mif\u001b[39;00m \u001b[38;5;129;01mnot\u001b[39;00m \u001b[38;5;28;43mself\u001b[39;49m\u001b[38;5;241;43m.\u001b[39;49m\u001b[43m_poll\u001b[49m\u001b[43m(\u001b[49m\u001b[43mtimeout\u001b[49m\u001b[43m)\u001b[49m:\n\u001b[1;32m    114\u001b[0m         \u001b[38;5;28;01mraise\u001b[39;00m Empty\n\u001b[1;32m    115\u001b[0m \u001b[38;5;28;01melif\u001b[39;00m \u001b[38;5;129;01mnot\u001b[39;00m \u001b[38;5;28mself\u001b[39m\u001b[38;5;241m.\u001b[39m_poll():\n",
      "File \u001b[0;32m/usr/lib/python3.10/multiprocessing/connection.py:262\u001b[0m, in \u001b[0;36m_ConnectionBase.poll\u001b[0;34m(self, timeout)\u001b[0m\n\u001b[1;32m    260\u001b[0m \u001b[38;5;28mself\u001b[39m\u001b[38;5;241m.\u001b[39m_check_closed()\n\u001b[1;32m    261\u001b[0m \u001b[38;5;28mself\u001b[39m\u001b[38;5;241m.\u001b[39m_check_readable()\n\u001b[0;32m--> 262\u001b[0m \u001b[38;5;28;01mreturn\u001b[39;00m \u001b[38;5;28;43mself\u001b[39;49m\u001b[38;5;241;43m.\u001b[39;49m\u001b[43m_poll\u001b[49m\u001b[43m(\u001b[49m\u001b[43mtimeout\u001b[49m\u001b[43m)\u001b[49m\n",
      "File \u001b[0;32m/usr/lib/python3.10/multiprocessing/connection.py:429\u001b[0m, in \u001b[0;36mConnection._poll\u001b[0;34m(self, timeout)\u001b[0m\n\u001b[1;32m    428\u001b[0m \u001b[38;5;28;01mdef\u001b[39;00m \u001b[38;5;21m_poll\u001b[39m(\u001b[38;5;28mself\u001b[39m, timeout):\n\u001b[0;32m--> 429\u001b[0m     r \u001b[38;5;241m=\u001b[39m \u001b[43mwait\u001b[49m\u001b[43m(\u001b[49m\u001b[43m[\u001b[49m\u001b[38;5;28;43mself\u001b[39;49m\u001b[43m]\u001b[49m\u001b[43m,\u001b[49m\u001b[43m \u001b[49m\u001b[43mtimeout\u001b[49m\u001b[43m)\u001b[49m\n\u001b[1;32m    430\u001b[0m     \u001b[38;5;28;01mreturn\u001b[39;00m \u001b[38;5;28mbool\u001b[39m(r)\n",
      "File \u001b[0;32m/usr/lib/python3.10/multiprocessing/connection.py:936\u001b[0m, in \u001b[0;36mwait\u001b[0;34m(object_list, timeout)\u001b[0m\n\u001b[1;32m    933\u001b[0m     deadline \u001b[38;5;241m=\u001b[39m time\u001b[38;5;241m.\u001b[39mmonotonic() \u001b[38;5;241m+\u001b[39m timeout\n\u001b[1;32m    935\u001b[0m \u001b[38;5;28;01mwhile\u001b[39;00m \u001b[38;5;28;01mTrue\u001b[39;00m:\n\u001b[0;32m--> 936\u001b[0m     ready \u001b[38;5;241m=\u001b[39m \u001b[43mselector\u001b[49m\u001b[38;5;241;43m.\u001b[39;49m\u001b[43mselect\u001b[49m\u001b[43m(\u001b[49m\u001b[43mtimeout\u001b[49m\u001b[43m)\u001b[49m\n\u001b[1;32m    937\u001b[0m     \u001b[38;5;28;01mif\u001b[39;00m ready:\n\u001b[1;32m    938\u001b[0m         \u001b[38;5;28;01mreturn\u001b[39;00m [key\u001b[38;5;241m.\u001b[39mfileobj \u001b[38;5;28;01mfor\u001b[39;00m (key, events) \u001b[38;5;129;01min\u001b[39;00m ready]\n",
      "File \u001b[0;32m/usr/lib/python3.10/selectors.py:416\u001b[0m, in \u001b[0;36m_PollLikeSelector.select\u001b[0;34m(self, timeout)\u001b[0m\n\u001b[1;32m    414\u001b[0m ready \u001b[38;5;241m=\u001b[39m []\n\u001b[1;32m    415\u001b[0m \u001b[38;5;28;01mtry\u001b[39;00m:\n\u001b[0;32m--> 416\u001b[0m     fd_event_list \u001b[38;5;241m=\u001b[39m \u001b[38;5;28;43mself\u001b[39;49m\u001b[38;5;241;43m.\u001b[39;49m\u001b[43m_selector\u001b[49m\u001b[38;5;241;43m.\u001b[39;49m\u001b[43mpoll\u001b[49m\u001b[43m(\u001b[49m\u001b[43mtimeout\u001b[49m\u001b[43m)\u001b[49m\n\u001b[1;32m    417\u001b[0m \u001b[38;5;28;01mexcept\u001b[39;00m \u001b[38;5;167;01mInterruptedError\u001b[39;00m:\n\u001b[1;32m    418\u001b[0m     \u001b[38;5;28;01mreturn\u001b[39;00m ready\n",
      "\u001b[0;31mKeyboardInterrupt\u001b[0m: "
     ]
    }
   ],
   "source": [
    "model.train()\n",
    "total_loss += [compute_loss(dataloader, model, criterion)]\n",
    "print(f'Total loss : {total_loss[-1]}')\n",
    "for epoch in range(150):\n",
    "    running_loss = 0.0\n",
    "    for i, data in enumerate(dataloader):\n",
    "        data = data.to(device) # Move data to target device\n",
    "        data_ = torch.cat(data.split(1, dim=1), dim=0)\n",
    "\n",
    "        # zero the parameter gradients\n",
    "        optimizer.zero_grad()\n",
    "\n",
    "        output = model(data_)\n",
    "        output = torch.cat(output.split(output.shape[0]//2, dim=0), dim=1)\n",
    "                \n",
    "        loss = criterion(output, data)\n",
    "        loss.backward()\n",
    "        optimizer.step()\n",
    "\n",
    "        running_loss += loss.item()\n",
    "\n",
    "        if i%log_n == log_n-1:\n",
    "            rll += [epoch, i, running_loss]\n",
    "            print(f'Epoch : {epoch}, Iteration : {i},Running loss : {running_loss/log_n}')\n",
    "            running_loss = 0\n",
    "    total_loss += [compute_loss(dataloader, model, criterion)]\n",
    "    print(f'Total loss : {total_loss[-1]}')"
   ]
  },
  {
   "cell_type": "code",
   "execution_count": 59,
   "id": "cac0b1e6",
   "metadata": {},
   "outputs": [
    {
     "data": {
      "image/png": "[encoded data removed]",
      "text/plain": [
       "<Figure size 432x288 with 1 Axes>"
      ]
     },
     "metadata": {
      "needs_background": "light"
     },
     "output_type": "display_data"
    }
   ],
   "source": [
    "plt.plot(np.array(rll).reshape((-1, 3))[:, 2], label='Running Loss')\n",
    "plt.legend()\n",
    "plt.show()"
   ]
  },
  {
   "cell_type": "code",
   "execution_count": 60,
   "id": "26c135cb",
   "metadata": {},
   "outputs": [
    {
     "data": {
      "image/png": "[encoded data removed]",
      "text/plain": [
       "<Figure size 432x288 with 1 Axes>"
      ]
     },
     "metadata": {
      "needs_background": "light"
     },
     "output_type": "display_data"
    }
   ],
   "source": [
    "plt.plot(total_loss, label='Total loss')\n",
    "plt.legend()\n",
    "plt.show()"
   ]
  },
  {
   "cell_type": "code",
   "execution_count": 61,
   "id": "a60ec4b5",
   "metadata": {},
   "outputs": [],
   "source": [
    "torch.save(model.state_dict(), './modelstate_lstm_cnn_v1')"
   ]
  },
  {
   "cell_type": "code",
   "execution_count": 62,
   "id": "5c0ed9c3",
   "metadata": {},
   "outputs": [
    {
     "data": {
      "text/plain": [
       "EncoderDecoder1DCNN_LSTM(\n",
       "  (encoder): Encoder1DCNN_LSTM(\n",
       "    (activation): SELU()\n",
       "    (cnn1): Conv1d(1, 5, kernel_size=(5,), stride=(1,))\n",
       "    (lstm1): LSTM(5, 5, batch_first=True)\n",
       "    (cnn2): Conv1d(5, 10, kernel_size=(5,), stride=(1,))\n",
       "    (lstm2): LSTM(10, 10, batch_first=True)\n",
       "    (cnn3): Conv1d(10, 20, kernel_size=(5,), stride=(1,))\n",
       "    (lstm3): LSTM(20, 20, batch_first=True)\n",
       "    (cnn4): Conv1d(20, 20, kernel_size=(5,), stride=(1,))\n",
       "    (lstm4): LSTM(20, 20, batch_first=True)\n",
       "    (cnn5): Conv1d(20, 20, kernel_size=(5,), stride=(1,))\n",
       "    (lstm5): LSTM(20, 20, batch_first=True)\n",
       "    (conv_last): Conv1d(20, 10, kernel_size=(5,), stride=(1,))\n",
       "  )\n",
       "  (decoder): Decoder1DCNN_LSTM(\n",
       "    (activation): SELU()\n",
       "    (cnn1): ConvTranspose1d(10, 20, kernel_size=(5,), stride=(1,))\n",
       "    (lstm1): LSTM(20, 5, batch_first=True)\n",
       "    (cnn2): ConvTranspose1d(5, 10, kernel_size=(5,), stride=(1,))\n",
       "    (lstm2): LSTM(10, 10, batch_first=True)\n",
       "    (cnn3): ConvTranspose1d(10, 5, kernel_size=(5,), stride=(1,))\n",
       "    (lstm3): LSTM(5, 5, batch_first=True)\n",
       "    (cnn4): ConvTranspose1d(5, 5, kernel_size=(5,), stride=(1,))\n",
       "    (lstm4): LSTM(5, 5, batch_first=True)\n",
       "    (cnn5): ConvTranspose1d(5, 5, kernel_size=(5,), stride=(1,))\n",
       "    (lstm5): LSTM(5, 5, batch_first=True)\n",
       "    (conv_last): Conv1d(5, 1, kernel_size=(3,), stride=(1,))\n",
       "  )\n",
       ")"
      ]
     },
     "execution_count": 62,
     "metadata": {},
     "output_type": "execute_result"
    }
   ],
   "source": [
    "model.eval()"
   ]
  },
  {
   "cell_type": "code",
   "execution_count": 63,
   "id": "c84ae463",
   "metadata": {},
   "outputs": [
    {
     "data": {
      "image/png": "[encoded data removed]",
      "text/plain": [
       "<Figure size 432x288 with 1 Axes>"
      ]
     },
     "metadata": {
      "needs_background": "light"
     },
     "output_type": "display_data"
    }
   ],
   "source": [
    "sample_data = dataset[11]\n",
    "# sample_data[0, :] = torch.from_numpy(np.convolve(sample_data[0, :].numpy(), np.ones(5), mode='same'))\n",
    "# sample_data[1, :] = torch.from_numpy(np.convolve(sample_data[1, :].numpy(), np.ones(5), mode='same'))\n",
    "# sample_data = sample_data[:, 4:-5]\n",
    "plt.plot(sample_data[0, :], label='GR')\n",
    "plt.plot(sample_data[1, :], label='DTC')\n",
    "plt.legend()\n",
    "plt.show()"
   ]
  },
  {
   "cell_type": "code",
   "execution_count": 64,
   "id": "12ce06fe",
   "metadata": {},
   "outputs": [],
   "source": [
    "sample_data_ = sample_data.unsqueeze(dim=0).to(device)\n",
    "reconst_data = model(torch.cat(sample_data_.split(1, dim=1), dim=0))\n",
    "reconst_data = torch.cat(output.split(reconst_data.shape[0]//2, dim=0), dim=1)\n",
    "reconst_data = reconst_data.detach().cpu().squeeze(dim=0).numpy()"
   ]
  },
  {
   "cell_type": "code",
   "execution_count": 67,
   "id": "8c69e09a",
   "metadata": {},
   "outputs": [
    {
     "data": {
      "image/png": "[encoded data removed]",
      "text/plain": [
       "<Figure size 432x288 with 1 Axes>"
      ]
     },
     "metadata": {
      "needs_background": "light"
     },
     "output_type": "display_data"
    }
   ],
   "source": [
    "plt.plot(reconst_data[1, :-2], label='GR_Reconst')\n",
    "plt.plot(reconst_data[0, :-2], label='DTC_Reconst')\n",
    "plt.legend()\n",
    "plt.show()"
   ]
  },
  {
   "cell_type": "code",
   "execution_count": null,
   "id": "69873469",
   "metadata": {},
   "outputs": [],
   "source": []
  }
 ],
 "metadata": {
  "kernelspec": {
   "display_name": "Python 3 (ipykernel)",
   "language": "python",
   "name": "python3"
  },
  "language_info": {
   "codemirror_mode": {
    "name": "ipython",
    "version": 3
   },
   "file_extension": ".py",
   "mimetype": "text/x-python",
   "name": "python",
   "nbconvert_exporter": "python",
   "pygments_lexer": "ipython3",
   "version": "3.10.4"
  }
 },
 "nbformat": 4,
 "nbformat_minor": 5
}
